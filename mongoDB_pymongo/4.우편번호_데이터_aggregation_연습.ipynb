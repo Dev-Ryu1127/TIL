{
 "cells": [
  {
   "cell_type": "markdown",
   "metadata": {},
   "source": [
    "## 우편번호 데이터 aggregation 연습하기\n",
    "* data/zip.json 파일 사용"
   ]
  },
  {
   "cell_type": "markdown",
   "metadata": {},
   "source": [
    "#### data/zip.json 파일 읽기"
   ]
  },
  {
   "cell_type": "code",
   "execution_count": 6,
   "metadata": {},
   "outputs": [],
   "source": [
    "import json\n",
    "\n",
    "with open('data/zip.json', 'r', encoding='utf8') as file:\n",
    "    contents = file.read()\n",
    "    json_data = json.loads(contents)"
   ]
  },
  {
   "cell_type": "code",
   "execution_count": 7,
   "metadata": {},
   "outputs": [
    {
     "name": "stdout",
     "output_type": "stream",
     "text": [
      "<class 'list'>\n"
     ]
    },
    {
     "data": {
      "text/plain": [
       "[{'_id': '01001',\n",
       "  'city': 'AGAWAM',\n",
       "  'loc': [-72.622739, 42.070206],\n",
       "  'pop': 15338,\n",
       "  'state': 'MA'},\n",
       " {'_id': '01002',\n",
       "  'city': 'CUSHMAN',\n",
       "  'loc': [-72.51565, 42.377017],\n",
       "  'pop': 36963,\n",
       "  'state': 'MA'},\n",
       " {'_id': '01005',\n",
       "  'city': 'BARRE',\n",
       "  'loc': [-72.108354, 42.409698],\n",
       "  'pop': 4546,\n",
       "  'state': 'MA'}]"
      ]
     },
     "execution_count": 7,
     "metadata": {},
     "output_type": "execute_result"
    }
   ],
   "source": [
    "print(type(json_data)) # 읽어온 데이터를 출력해보기\n",
    "json_data[:3]"
   ]
  },
  {
   "cell_type": "markdown",
   "metadata": {},
   "source": [
    "---\n",
    "#### MongoDB연결, DB생성, collection생성"
   ]
  },
  {
   "cell_type": "code",
   "execution_count": 11,
   "metadata": {},
   "outputs": [
    {
     "name": "stdout",
     "output_type": "stream",
     "text": [
      "MongoClient(host=['localhost:27017'], document_class=dict, tz_aware=False, connect=True)\n",
      "Database(MongoClient(host=['localhost:27017'], document_class=dict, tz_aware=False, connect=True), 'zip_db')\n",
      "Collection(Database(MongoClient(host=['localhost:27017'], document_class=dict, tz_aware=False, connect=True), 'zip_db'), 'zip_col')\n"
     ]
    }
   ],
   "source": [
    "import pymongo\n",
    "\n",
    "# mongodb에 연결\n",
    "conn = pymongo.MongoClient()\n",
    "print(conn)\n",
    "\n",
    "# db 생성\n",
    "zip_db = conn.zip_db\n",
    "print(zip_db)\n",
    "\n",
    "# collection 생성\n",
    "zip_col = zip_db.zip_col\n",
    "print(zip_col)"
   ]
  },
  {
   "cell_type": "markdown",
   "metadata": {},
   "source": [
    "---\n",
    "#### zip_col에 zip.json 파일 insert 하기"
   ]
  },
  {
   "cell_type": "code",
   "execution_count": 12,
   "metadata": {},
   "outputs": [
    {
     "data": {
      "text/plain": [
       "<pymongo.results.InsertManyResult at 0x221afe5ea88>"
      ]
     },
     "execution_count": 12,
     "metadata": {},
     "output_type": "execute_result"
    }
   ],
   "source": [
    "zip_col.insert_many(json_data)"
   ]
  },
  {
   "cell_type": "code",
   "execution_count": 14,
   "metadata": {},
   "outputs": [
    {
     "name": "stdout",
     "output_type": "stream",
     "text": [
      "{'_id': '01001', 'city': 'AGAWAM', 'loc': [-72.622739, 42.070206], 'pop': 15338, 'state': 'MA'}\n",
      "{'_id': '01002', 'city': 'CUSHMAN', 'loc': [-72.51565, 42.377017], 'pop': 36963, 'state': 'MA'}\n",
      "{'_id': '01005', 'city': 'BARRE', 'loc': [-72.108354, 42.409698], 'pop': 4546, 'state': 'MA'}\n"
     ]
    }
   ],
   "source": [
    "for z in zip_col.find()[:3]:\n",
    "    print(z)"
   ]
  },
  {
   "cell_type": "markdown",
   "metadata": {},
   "source": [
    "---\n",
    "#### 연습문제"
   ]
  },
  {
   "cell_type": "code",
   "execution_count": 16,
   "metadata": {},
   "outputs": [],
   "source": [
    "# match와 field에 따라 collection을 조회하는 함수를 만든다\n",
    "def find_col(m, f):\n",
    "    for z in zip_col.find(m,f):\n",
    "        print(z)\n",
    "# match에 따라 aggregate하는 함수를 만든다\n",
    "def agg_col(m):\n",
    "    for z in zip_col.aggregate(m):\n",
    "        print(z)"
   ]
  },
  {
   "cell_type": "code",
   "execution_count": 20,
   "metadata": {},
   "outputs": [
    {
     "name": "stdout",
     "output_type": "stream",
     "text": [
      "{'totalPop': 1003218}\n",
      "{'totalPop': 4891769}\n",
      "{'totalPop': 2350725}\n",
      "{'totalPop': 4781379}\n",
      "{'totalPop': 544698}\n",
      "{'totalPop': 1108229}\n",
      "{'totalPop': 4040587}\n",
      "{'totalPop': 1578139}\n",
      "{'totalPop': 606900}\n",
      "{'totalPop': 798948}\n"
     ]
    }
   ],
   "source": [
    "#state 별 인구수의 합계, _id는 출력하지 않고, 출력되는 documet를 10개로 제한한다.\n",
    "f = [\n",
    "    {\n",
    "        \"$group\": {\n",
    "            \"_id\":\"$state\",\n",
    "            \"totalPop\":{ \"$sum\": \"$pop\"}\n",
    "        }\n",
    "    },\n",
    "    {\"$project\": {\"_id\": 0, \"totalPop\": 1}},\n",
    "    {\"$limit\": 10}\n",
    "]\n",
    "agg_col(f)"
   ]
  },
  {
   "cell_type": "code",
   "execution_count": 23,
   "metadata": {},
   "outputs": [
    {
     "name": "stdout",
     "output_type": "stream",
     "text": [
      "{'_id': None, 'count': 29353}\n"
     ]
    }
   ],
   "source": [
    "#1. SQL: SELECT COUNT(*) AS count FROM zip\n",
    "f = [\n",
    "    {\n",
    "        \"$group\": {\n",
    "            \"_id\": None,\n",
    "            \"count\":{\"$sum\":1}\n",
    "        }\n",
    "    }\n",
    "]\n",
    "agg_col(f)"
   ]
  },
  {
   "cell_type": "code",
   "execution_count": 24,
   "metadata": {},
   "outputs": [
    {
     "name": "stdout",
     "output_type": "stream",
     "text": [
      "{'_id': None, 'total_pop': 248408400}\n"
     ]
    }
   ],
   "source": [
    "#2. SQL: SELECT SUM(pop) as total_pop FROM zip\n",
    "f = [\n",
    "    {\n",
    "        \"$group\": {\n",
    "            \"_id\":None,\n",
    "            \"total_pop\":{\"$sum\": \"$pop\"}\n",
    "        }\n",
    "    }\n",
    "]\n",
    "agg_col(f)"
   ]
  },
  {
   "cell_type": "code",
   "execution_count": 26,
   "metadata": {},
   "outputs": [
    {
     "name": "stdout",
     "output_type": "stream",
     "text": [
      "{'_id': 'AL', 'total_pop': 4040587}\n",
      "{'_id': 'AR', 'total_pop': 2350725}\n",
      "{'_id': 'HI', 'total_pop': 1108229}\n",
      "{'_id': 'WA', 'total_pop': 4866692}\n",
      "{'_id': 'MD', 'total_pop': 4781379}\n",
      "{'_id': 'AK', 'total_pop': 544698}\n",
      "{'_id': 'WI', 'total_pop': 4891769}\n",
      "{'_id': 'RI', 'total_pop': 1003218}\n",
      "{'_id': 'MT', 'total_pop': 798948}\n",
      "{'_id': 'UT', 'total_pop': 1722850}\n"
     ]
    }
   ],
   "source": [
    "#3. SQL: SELECT state, SUM(pop) as total_pop FROM zip GROUP BY state\n",
    "f = [\n",
    "    {\n",
    "        \"$group\":{\n",
    "            \"_id\":\"$state\",\n",
    "            \"total_pop\":{\"$sum\": \"$pop\"}\n",
    "        }\n",
    "    },\n",
    "    {\"$limit\" : 10}\n",
    "]\n",
    "agg_col(f)"
   ]
  },
  {
   "cell_type": "code",
   "execution_count": 27,
   "metadata": {},
   "outputs": [
    {
     "name": "stdout",
     "output_type": "stream",
     "text": [
      "{'_id': 'GANSEVOORT', 'total_pop': 14485}\n",
      "{'_id': 'QUINBY', 'total_pop': 0}\n",
      "{'_id': 'ALLEGANY', 'total_pop': 7885}\n",
      "{'_id': 'RICHTON', 'total_pop': 7378}\n",
      "{'_id': 'JOELTON', 'total_pop': 6749}\n",
      "{'_id': 'SPRINGBROOK', 'total_pop': 692}\n",
      "{'_id': 'EDGAR', 'total_pop': 795}\n",
      "{'_id': 'METHUEN', 'total_pop': 39664}\n",
      "{'_id': 'WEST COVINA', 'total_pop': 94294}\n",
      "{'_id': 'WATER VALLEY', 'total_pop': 6561}\n"
     ]
    }
   ],
   "source": [
    "#4. SQL : select city, sum(pop) as total_pop from zip group by city\n",
    "f = [\n",
    "    {\n",
    "        \"$group\":{\n",
    "            \"_id\":\"$city\",\n",
    "            \"total_pop\":{\"$sum\": \"$pop\"}\n",
    "        }\n",
    "    },\n",
    "    {\"$limit\" : 10}\n",
    "]\n",
    "agg_col(f)"
   ]
  },
  {
   "cell_type": "code",
   "execution_count": 37,
   "metadata": {},
   "outputs": [
    {
     "name": "stdout",
     "output_type": "stream",
     "text": [
      "{'_id': 'AK', 'total_pop': 544698}\n",
      "{'_id': 'DC', 'total_pop': 606900}\n",
      "{'_id': 'MT', 'total_pop': 798948}\n",
      "{'_id': 'RI', 'total_pop': 1003218}\n",
      "{'_id': 'HI', 'total_pop': 1108229}\n",
      "{'_id': 'NE', 'total_pop': 1578139}\n",
      "{'_id': 'AR', 'total_pop': 2350725}\n",
      "{'_id': 'AL', 'total_pop': 4040587}\n",
      "{'_id': 'MD', 'total_pop': 4781379}\n",
      "{'_id': 'WI', 'total_pop': 4891769}\n"
     ]
    }
   ],
   "source": [
    "#5. SQL: SELECT state, SUM(pop) as total_pop FROM zip GROUP BY state\n",
    "# ORDER BY as total_pop\n",
    "f = [\n",
    "    {\n",
    "        \"$group\":{\n",
    "            \"_id\":\"$state\",\n",
    "            \"total_pop\":{\"$sum\": \"$pop\"}\n",
    "        }\n",
    "    },\n",
    "    {\"$limit\" : 10},\n",
    "    {\"$sort\":{\"total_pop\": 1}}\n",
    "]\n",
    "agg_col(f)"
   ]
  },
  {
   "cell_type": "code",
   "execution_count": 43,
   "metadata": {},
   "outputs": [
    {
     "name": "stdout",
     "output_type": "stream",
     "text": [
      "{'_id': None, 'total_pop': 474}\n"
     ]
    }
   ],
   "source": [
    "#6. # SQL: SELECT COUNT(*) FROM zip WHERE state = 'MA' \n",
    "f = [\n",
    "    {\n",
    "        \"$match\":{\"state\":\"MA\"}\n",
    "    },\n",
    "    {\n",
    "        \"$group\":{\n",
    "            \"_id\":None,\n",
    "            \"total_pop\":{\"$sum\": 1}\n",
    "        }\n",
    "    },\n",
    "]\n",
    "agg_col(f)"
   ]
  },
  {
   "cell_type": "code",
   "execution_count": 42,
   "metadata": {},
   "outputs": [
    {
     "name": "stdout",
     "output_type": "stream",
     "text": [
      "{'_id': 'MA', 'total_pop': 6016425}\n"
     ]
    }
   ],
   "source": [
    "#7. select state,sum(pop) as total_pop from zip \n",
    "# where state = 'MA' group by state\n",
    "f = [\n",
    "    {\n",
    "        \"$match\":{\"state\":\"MA\"}\n",
    "    },\n",
    "    {\n",
    "        \"$group\":{\n",
    "            \"_id\":\"$state\",\n",
    "            \"total_pop\":{\"$sum\": \"$pop\"}\n",
    "        }\n",
    "    },\n",
    "]\n",
    "agg_col(f)"
   ]
  },
  {
   "cell_type": "code",
   "execution_count": 44,
   "metadata": {},
   "outputs": [
    {
     "name": "stdout",
     "output_type": "stream",
     "text": [
      "{'_id': 'MS', 'total_pop': 2573216}\n",
      "{'_id': 'DE', 'total_pop': 666168}\n"
     ]
    }
   ],
   "source": [
    "#7.1 select state,sum(pop) as total_pop from zip where state in ('DE', 'MS') \n",
    "# group by state\n",
    "f = [\n",
    "    {\n",
    "        \"$match\":{\"state\":{\"$in\": [\"DE\", \"MS\"]}}\n",
    "    },\n",
    "    {\n",
    "        \"$group\":{\n",
    "            \"_id\":\"$state\",\n",
    "            \"total_pop\":{\"$sum\": \"$pop\"}\n",
    "        }\n",
    "    },\n",
    "]\n",
    "agg_col(f)"
   ]
  },
  {
   "cell_type": "code",
   "execution_count": 45,
   "metadata": {},
   "outputs": [
    {
     "name": "stdout",
     "output_type": "stream",
     "text": [
      "{'_id': 'FL', 'total_pop': 12686644}\n",
      "{'_id': 'TX', 'total_pop': 16984601}\n",
      "{'_id': 'CA', 'total_pop': 29754890}\n",
      "{'_id': 'NY', 'total_pop': 17990402}\n",
      "{'_id': 'PA', 'total_pop': 11881643}\n",
      "{'_id': 'OH', 'total_pop': 10846517}\n",
      "{'_id': 'IL', 'total_pop': 11427576}\n"
     ]
    }
   ],
   "source": [
    "#8. SELECT state, SUM(pop) as total_pop FROM zip \n",
    "# GROUP BY state HAVING SUM(pop) > 10000000\n",
    "f = [\n",
    "    {\n",
    "        \"$group\":{\n",
    "            \"_id\":\"$state\",\n",
    "            \"total_pop\":{\"$sum\": \"$pop\"}\n",
    "        }\n",
    "    },\n",
    "    {\n",
    "        \"$match\":{\"total_pop\":{\"$gt\": 10000000}}\n",
    "    }\n",
    "]\n",
    "agg_col(f)"
   ]
  },
  {
   "cell_type": "code",
   "execution_count": 52,
   "metadata": {},
   "outputs": [
    {
     "name": "stdout",
     "output_type": "stream",
     "text": [
      "{'state_pop': 6478216}\n",
      "{'state_pop': 4040587}\n",
      "{'state_pop': 2350725}\n",
      "{'state_pop': 1108229}\n",
      "{'state_pop': 4866692}\n",
      "{'state_pop': 4781379}\n",
      "{'state_pop': 1003218}\n",
      "{'state_pop': 4891769}\n",
      "{'state_pop': 544698}\n",
      "{'state_pop': 798948}\n"
     ]
    }
   ],
   "source": [
    "#9.1000만 이상의 state 별 총 인구를 state_pop 필드명으로 출력하고 _id는 출력하지 않기\n",
    "f = [\n",
    "    {\n",
    "        \"$group\":{\n",
    "            \"_id\":\"$state\",\n",
    "            \"state_pop\":{\"$sum\": \"$pop\"}\n",
    "        }\n",
    "    },\n",
    "    {\"$project\": {\"_id\": 0}},\n",
    "    {\"$limit\" : 10}\n",
    "]\n",
    "agg_col(f)"
   ]
  },
  {
   "cell_type": "code",
   "execution_count": 55,
   "metadata": {},
   "outputs": [
    {
     "name": "stdout",
     "output_type": "stream",
     "text": [
      "{'_id': 'CA', 'state_pop': 29754890}\n",
      "{'_id': 'NY', 'state_pop': 17990402}\n",
      "{'_id': 'TX', 'state_pop': 16984601}\n"
     ]
    }
   ],
   "source": [
    "#10.1000만 이상의 state만 내림차순 정렬하여 3개만 가져오기\n",
    "f = [\n",
    "    {\n",
    "        \"$group\":{\n",
    "            \"_id\":\"$state\",\n",
    "            \"state_pop\":{\"$sum\": \"$pop\"}\n",
    "        }\n",
    "    },\n",
    "    {\"$match\": {\"state_pop\": {\"$gt\": 10000000}}},\n",
    "    {\"$sort\":{\"state_pop\":-1}},\n",
    "    {\"$limit\" : 3}\n",
    "]\n",
    "agg_col(f)"
   ]
  },
  {
   "cell_type": "code",
   "execution_count": 56,
   "metadata": {},
   "outputs": [
    {
     "name": "stdout",
     "output_type": "stream",
     "text": [
      "{'state_pop': 29754890}\n",
      "{'state_pop': 17990402}\n",
      "{'state_pop': 16984601}\n"
     ]
    }
   ],
   "source": [
    "#11.1000만 이상의 state 별 총 인구를 state_pop 필드명으로 출력하고,\n",
    "# _id는 출력하지 않으며, 가장 많은 인구를 가진 3개만 출력하기\n",
    "f = [\n",
    "    {\n",
    "        \"$group\":{\n",
    "            \"_id\":\"$state\",\n",
    "            \"state_pop\":{\"$sum\": \"$pop\"}\n",
    "        }\n",
    "    },\n",
    "    {\"$match\": {\"state_pop\": {\"$gt\": 10000000}}},\n",
    "    {\"$sort\":{\"state_pop\":-1}},\n",
    "    {\"$project\": {\"_id\":0}},\n",
    "    {\"$limit\" : 3}\n",
    "]\n",
    "agg_col(f)"
   ]
  },
  {
   "cell_type": "code",
   "execution_count": 58,
   "metadata": {},
   "outputs": [
    {
     "name": "stdout",
     "output_type": "stream",
     "text": [
      "{'_id': {'state': 'TN', 'city': 'PEGRAM'}, 'state_pop': 2742}\n",
      "{'_id': {'state': 'NY', 'city': 'WARRENSBURG'}, 'state_pop': 4399}\n",
      "{'_id': {'state': 'MD', 'city': 'HOLLYWOOD'}, 'state_pop': 6785}\n",
      "{'_id': {'state': 'WV', 'city': 'GRANTSVILLE'}, 'state_pop': 1873}\n",
      "{'_id': {'state': 'CT', 'city': 'TRUMBULL'}, 'state_pop': 32213}\n",
      "{'_id': {'state': 'PA', 'city': 'MOUNT LEBANON'}, 'state_pop': 18660}\n",
      "{'_id': {'state': 'MA', 'city': 'WHITMAN'}, 'state_pop': 13208}\n",
      "{'_id': {'state': 'WI', 'city': 'SAINT CROIX FALL'}, 'state_pop': 1640}\n",
      "{'_id': {'state': 'RI', 'city': 'TIVERTON'}, 'state_pop': 14310}\n",
      "{'_id': {'state': 'PA', 'city': 'LANDENBERG'}, 'state_pop': 4787}\n"
     ]
    }
   ],
   "source": [
    "#12. select state, city, sum(pop) as total_pop from zip group by state,city \n",
    "f = [\n",
    "    {\n",
    "        \"$group\":{\n",
    "            \"_id\":{\n",
    "                \"state\":\"$state\",\n",
    "                \"city\":\"$city\"\n",
    "            },\n",
    "            \"state_pop\":{\"$sum\": \"$pop\"}\n",
    "        }\n",
    "    },\n",
    "    {\"$limit\" : 10}\n",
    "]\n",
    "agg_col(f)"
   ]
  },
  {
   "cell_type": "code",
   "execution_count": 93,
   "metadata": {},
   "outputs": [
    {
     "name": "stdout",
     "output_type": "stream",
     "text": [
      "{'_id': {'state': 'AK', 'city': 'POINT BAKER'}, 'total_pop': 426}\n"
     ]
    }
   ],
   "source": [
    "#13. select state, city, sum(pop) as total_pop from zip \n",
    "# GROUP BY state, city HAVING city = 'POINT BAKER'\n",
    "f = [\n",
    "    {\n",
    "        \"$group\":{\n",
    "            \"_id\":{\n",
    "                \"state\":\"$state\",\n",
    "                \"city\":\"$city\"\n",
    "            },\n",
    "            \"total_pop\":{\"$sum\": \"$pop\"}\n",
    "        }\n",
    "    },\n",
    "    {\"$match\":{\"_id.city\": \"POINT BAKER\"}},\n",
    "]\n",
    "agg_col(f)"
   ]
  },
  {
   "cell_type": "code",
   "execution_count": 78,
   "metadata": {},
   "outputs": [
    {
     "name": "stdout",
     "output_type": "stream",
     "text": [
      "{'_id': {'state': 'NH', 'city': 'MUNSONVILLE'}, 'avg_pop': 535.0}\n",
      "{'_id': {'state': 'PA', 'city': 'FRANKLIN'}, 'avg_pop': 18357.0}\n",
      "{'_id': {'state': 'PA', 'city': 'MONT ALTO'}, 'avg_pop': 1601.0}\n",
      "{'_id': {'state': 'MA', 'city': 'FT DEVENS'}, 'avg_pop': 8480.0}\n",
      "{'_id': {'state': 'MO', 'city': 'SOUTH COUNTY'}, 'avg_pop': 45920.0}\n",
      "{'_id': {'state': 'IA', 'city': 'BADGER'}, 'avg_pop': 1270.0}\n",
      "{'_id': {'state': 'VA', 'city': 'ELKTON'}, 'avg_pop': 10331.0}\n",
      "{'_id': {'state': 'TX', 'city': 'ART'}, 'avg_pop': 24.0}\n",
      "{'_id': {'state': 'ME', 'city': 'NOBLEBORO'}, 'avg_pop': 1455.0}\n",
      "{'_id': {'state': 'WI', 'city': 'REESEVILLE'}, 'avg_pop': 2027.0}\n"
     ]
    }
   ],
   "source": [
    "#14. SELECT AVG(pop) FROM zip GROUP BY state, city  \n",
    "f = [\n",
    "    {\n",
    "        \"$group\":{\n",
    "            \"_id\":{\n",
    "                \"state\":\"$state\",\n",
    "                \"city\":\"$city\"\n",
    "            },\n",
    "            \"avg_pop\":{\"$avg\": \"$pop\"}\n",
    "        }\n",
    "    },\n",
    "    {\"$limit\":10}\n",
    "]\n",
    "agg_col(f)"
   ]
  },
  {
   "cell_type": "code",
   "execution_count": 96,
   "metadata": {},
   "outputs": [
    {
     "name": "stdout",
     "output_type": "stream",
     "text": [
      "{'_id': {'city': 'MOUNT HOLLY', 'state': 'SC'}}\n",
      "{'_id': {'city': 'CAMPBELL', 'state': 'CA'}}\n",
      "{'_id': {'city': 'HOBOKEN', 'state': 'NJ'}}\n"
     ]
    }
   ],
   "source": [
    "#15. select state,city, avg(pop) as avg_pop from zip  \n",
    "# GROUP BY state, city  having avg_pop > 30000\n",
    "#주별 도시 인구 평균이 30000 이 넘는 곳의 _id는 출력하지 않으며, \n",
    "# state 와 city 이름만 출력하기 (3개만 출력하기)\n",
    "f = [\n",
    "    {\n",
    "        \"$group\":{\n",
    "            \"_id\":{\n",
    "                \"city\":\"$city\",\n",
    "                \"state\":\"$state\"\n",
    "            },\n",
    "            \"avg_pop\":{\"$avg\": \"$pop\"}\n",
    "        }\n",
    "    },\n",
    "    {\"$match\": {\"avg_pop\":{\"$gt\":30000}}},\n",
    "    {\"$limit\":3},\n",
    "    {\"$project\": {\"avg_pop\":0}},\n",
    "#     {\"$unwind\":\"$_id\"},\n",
    "]\n",
    "agg_col(f)"
   ]
  }
 ],
 "metadata": {
  "kernelspec": {
   "display_name": "Python 3",
   "language": "python",
   "name": "python3"
  },
  "language_info": {
   "codemirror_mode": {
    "name": "ipython",
    "version": 3
   },
   "file_extension": ".py",
   "mimetype": "text/x-python",
   "name": "python",
   "nbconvert_exporter": "python",
   "pygments_lexer": "ipython3",
   "version": "3.7.0"
  }
 },
 "nbformat": 4,
 "nbformat_minor": 2
}
