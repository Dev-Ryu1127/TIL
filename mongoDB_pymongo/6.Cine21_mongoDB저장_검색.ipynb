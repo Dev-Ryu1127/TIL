{
 "cells": [
  {
   "cell_type": "markdown",
   "metadata": {},
   "source": [
    "## 1. mongoDB 에 크롤릴 데이터 저장하기\n",
    "* Database, collection 생성\n",
    "    * DB : movie_db,   col : actor_col\n",
    "* data/actors.json file을 읽어서 처리하기"
   ]
  },
  {
   "cell_type": "code",
   "execution_count": 2,
   "metadata": {},
   "outputs": [],
   "source": [
    "# warning 감추기\n",
    "import warnings\n",
    "warnings.filterwarnings(action='ignore')"
   ]
  },
  {
   "cell_type": "code",
   "execution_count": 8,
   "metadata": {},
   "outputs": [
    {
     "name": "stdout",
     "output_type": "stream",
     "text": [
      "MongoClient(host=['localhost:27017'], document_class=dict, tz_aware=False, connect=True)\n",
      "Database(MongoClient(host=['localhost:27017'], document_class=dict, tz_aware=False, connect=True), 'movie_db')\n",
      "movie_db\n",
      "Collection(Database(MongoClient(host=['localhost:27017'], document_class=dict, tz_aware=False, connect=True), 'movie_db'), 'actor_col')\n",
      "actor_col\n",
      "1903\n"
     ]
    }
   ],
   "source": [
    "import pymongo\n",
    "import json\n",
    "\n",
    "# 1. connection 생성\n",
    "conn = pymongo.MongoClient(host='localhost', port=27017)\n",
    "print(conn)\n",
    "\n",
    "# 2. database 생성\n",
    "movie = conn.movie_db\n",
    "print(movie)\n",
    "print(movie.name)\n",
    "\n",
    "# 3. collection 생성\n",
    "actors = movie.actor_col\n",
    "print(actors)\n",
    "print(actors.name)\n",
    "\n",
    "# 4. json file open\n",
    "with open('data/actors.json','r',encoding='utf8') as file:\n",
    "    json_data = json.load(file)\n",
    "#     actors.insert_many(json_data) # 최초 한번만 해주기\n",
    "    \n",
    "# document count\n",
    "print(actors.estimated_document_count())"
   ]
  },
  {
   "cell_type": "code",
   "execution_count": 10,
   "metadata": {},
   "outputs": [
    {
     "name": "stdout",
     "output_type": "stream",
     "text": [
      "{'_id': ObjectId('5f28b4b7a1b05d5764d6da30'), '배우이름': '박근수', '흥행지수': 0, '출연작': ['오늘도 평화로운'], '순위': 1903, '직업': '배우', '성별': '남'}\n",
      "{'_id': ObjectId('5f28b4b7a1b05d5764d6da31'), '배우이름': '김승우', '흥행지수': 0, '출연작': ['개같은 날의 오후'], '순위': 1904, '직업': '배우', '생년월일': '1969-02-24', '성별': '남', '홈페이지': 'http://www.milkyboy.com/', '신장/체중': '180cm, 70kg', '학교': '수원대경영대학원 스포츠경영학 석사', '취미': '야구, 골프', '특기': '골프, 구기종목', '소속사': '웰메이드스타엠'}\n",
      "{'_id': ObjectId('5f28b4b7a1b05d5764d6da32'), '배우이름': '윤지원', '흥행지수': 0, '출연작': ['걷기왕'], '순위': 1905, '직업': '배우', '생년월일': '1994-10-07', '성별': '여', '홈페이지': 'http://instagram.com/yuldion'}\n"
     ]
    }
   ],
   "source": [
    "for doc in actors.find()[1900:]:\n",
    "    print(doc)"
   ]
  },
  {
   "cell_type": "markdown",
   "metadata": {},
   "source": [
    "### 1) sort"
   ]
  },
  {
   "cell_type": "code",
   "execution_count": 98,
   "metadata": {},
   "outputs": [
    {
     "name": "stdout",
     "output_type": "stream",
     "text": [
      "1 RM 187\n",
      "2 갈소원 200\n",
      "3 감소현 901\n",
      "4 감우성 1680\n",
      "5 감우성 1673\n",
      "6 감우성 1665\n",
      "7 강경준 987\n",
      "8 강계식 1181\n",
      "9 강계열 1211\n",
      "10 강구한 650\n"
     ]
    }
   ],
   "source": [
    "docs = actors.find({}).sort('배우이름')\n",
    "docs = actors.find({}).sort('배우이름', pymongo.DESCENDING) # 내림차순\n",
    "docs = actors.find({}).sort('배우이름', 1) # 오름차순\n",
    "docs = actors.find({}).sort([('배우이름', 1),('순위',-1)])\n",
    "for idx, actor in enumerate(docs[:10],1):\n",
    "    print(idx, actor['배우이름'], actor['순위'])"
   ]
  },
  {
   "cell_type": "markdown",
   "metadata": {},
   "source": [
    "### 2. exists\n",
    "* 필드 값이 존재하는 경우를 검색한다.\n"
   ]
  },
  {
   "cell_type": "code",
   "execution_count": 20,
   "metadata": {},
   "outputs": [
    {
     "name": "stdout",
     "output_type": "stream",
     "text": [
      "180\n",
      "1723\n"
     ]
    }
   ],
   "source": [
    "# '특기' 필드가 존재하는 경우와 존재하지 않는 경우 count\n",
    "print(actors.find({'특기':{\"$exists\": True}}).count())\n",
    "print(actors.find({'특기':{\"$exists\": False}}).count())"
   ]
  },
  {
   "cell_type": "code",
   "execution_count": 99,
   "metadata": {},
   "outputs": [
    {
     "name": "stdout",
     "output_type": "stream",
     "text": [
      "이병헌 1970-07-12\n",
      "하정우 1978-03-11\n",
      "마동석 1971-03-01\n",
      "전혜진 1976-08-10\n",
      "이성민 1968-10-15\n",
      "김아중 1982-10-16\n",
      "박정민 1987-02-25\n",
      "강기영 1983-10-14\n",
      "조진웅 1976-03-03\n",
      "조정석 1980-12-26\n"
     ]
    }
   ],
   "source": [
    "# 생년월일이 있는 배우의 이름과 생년월일을 검색\n",
    "doc = actors.find({},{'배우이름':1, '생년월일':1, '_id':0}) # 생년월일이 없는 필드는 조회못함\n",
    "doc = actors.find({'생년월일':{'$exists': True}},{'배우이름':1, '생년월일':1, '_id':0})\n",
    "\n",
    "for act in doc[:10]:\n",
    "    print(act['배우이름'], act['생년월일'])"
   ]
  },
  {
   "cell_type": "code",
   "execution_count": 34,
   "metadata": {},
   "outputs": [
    {
     "name": "stdout",
     "output_type": "stream",
     "text": [
      "조진웅 9\n"
     ]
    }
   ],
   "source": [
    "# '다른이름' 이 '조원준'인 배우위 이름과 순위를 출력\n",
    "doc = actors.find({'다른 이름': '조원준'},{'배우이름':1, '순위':1, '_id':0})\n",
    "for i in doc:\n",
    "    print(i['배우이름'], i['순위'])"
   ]
  },
  {
   "cell_type": "markdown",
   "metadata": {},
   "source": [
    "### 3) 필드의 범위로 검색\n",
    "* $gt, $gte\n",
    "* $lt, $lte"
   ]
  },
  {
   "cell_type": "code",
   "execution_count": 46,
   "metadata": {},
   "outputs": [
    {
     "name": "stdout",
     "output_type": "stream",
     "text": [
      "{'배우이름': '마동석', '흥행지수': 19019, '출연작': ['나쁜 녀석들: 더 무비', '악인전', '노리개: 그녀의 눈물', '부당거래', '부산행', '신과 함께-인과 연']}\n",
      "{'배우이름': '전혜진', '흥행지수': 17976, '출연작': ['백두산', '비스트', '뺑반', '불한당: 나쁜 놈들의 세상', '택시운전사']}\n",
      "{'배우이름': '이성민', '흥행지수': 15213, '출연작': ['남산의 부장들', '비스트', '미스터 주: 사라진 VIP', '부당거래', '공작', '마이 리틀 히어로']}\n",
      "{'배우이름': '김아중', '흥행지수': 15208, '출연작': ['나쁜 녀석들: 더 무비', '더 킹']}\n",
      "{'배우이름': '박정민', '흥행지수': 14534, '출연작': ['시동', '다만 악에서 구하소서', '타짜: 원 아이드 잭', '사냥의 시간', '그것만이 내 세상', '동주']}\n",
      "{'배우이름': '강기영', '흥행지수': 13974, '출연작': ['엑시트', '가장 보통의 연애', '퍼즐']}\n",
      "{'배우이름': '조진웅', '흥행지수': 13472, '출연작': ['광대들: 풍문조작단', '퍼펙트맨', '블랙머니', '장수상회', '사라진 시간', '명량']}\n",
      "{'배우이름': '조정석', '흥행지수': 13192, '출연작': ['엑시트', '형', '시간이탈자', '특종: 량첸살인기', '뺑반', '나의 사랑 나의 신부']}\n",
      "{'배우이름': '배수지', '흥행지수': 12646, '출연작': ['백두산', '건축학개론']}\n",
      "{'배우이름': '유아인', '흥행지수': 12422, '출연작': ['＃살아있다', '베테랑', '버닝', '국가부도의 날', '우아한 거짓말']}\n",
      "{'배우이름': '임윤아', '흥행지수': 12343, '출연작': ['엑시트']}\n",
      "{'배우이름': '고두심', '흥행지수': 11496, '출연작': ['엑시트']}\n",
      "{'배우이름': '장기용', '흥행지수': 11406, '출연작': ['나쁜 녀석들: 더 무비']}\n",
      "{'배우이름': '권상우', '흥행지수': 11263, '출연작': ['히트맨', '신의 한 수: 귀수편', '두번할까요', '탐정: 리턴즈']}\n",
      "{'배우이름': '곽도원', '흥행지수': 11254, '출연작': ['남산의 부장들', '강철비2: 정상회담', '변호인', '아수라', '무뢰한', '범죄와의 전쟁 : 나쁜놈들 전성시대']}\n",
      "{'배우이름': '유해진', '흥행지수': 10910, '출연작': ['봉오동 전투', '부당거래', '타짜', '베테랑', '말모이', '럭키']}\n",
      "{'배우이름': '최유화', '흥행지수': 10898, '출연작': ['봉오동 전투', '타짜: 원 아이드 잭', '비밀은 없다', '최악의 하루']}\n",
      "{'배우이름': '박인환', '흥행지수': 10669, '출연작': ['엑시트', '봄날은 간다', '비밥바룰라', '기묘한 가족', '수상한 그녀']}\n",
      "{'배우이름': '정해인', '흥행지수': 10447, '출연작': ['시동', '유열의 음악앨범', '장수상회']}\n"
     ]
    }
   ],
   "source": [
    "# 흥행지수 10000 <= 흥행지수 <= 30000\n",
    "filter = {'흥행지수':{'$gte':10000, '$lte':30000}}\n",
    "field = {'배우이름':1, '흥행지수':1,'출연작':1, '_id':0}\n",
    "doc = actors.find(filter,field)\n",
    "for i in doc:\n",
    "    print(i)"
   ]
  },
  {
   "cell_type": "markdown",
   "metadata": {},
   "source": [
    "## 4) or, nor(not or)"
   ]
  },
  {
   "cell_type": "code",
   "execution_count": 49,
   "metadata": {},
   "outputs": [
    {
     "name": "stdout",
     "output_type": "stream",
     "text": [
      "{'배우이름': '이병헌', '출연작': ['백두산', '남산의 부장들', '내부자들', '그것만이 내 세상', '광해, 왕이 된 남자', '번지점프를 하다']}\n",
      "{'배우이름': '하정우', '출연작': ['백두산', '클로젯', '멋진 하루', '신과 함께-인과 연', '신과 함께-죄와 벌', '아가씨']}\n",
      "{'배우이름': '마동석', '출연작': ['나쁜 녀석들: 더 무비', '악인전', '노리개: 그녀의 눈물', '부당거래', '부산행', '신과 함께-인과 연']}\n",
      "{'배우이름': '전혜진', '출연작': ['백두산', '비스트', '뺑반', '불한당: 나쁜 놈들의 세상', '택시운전사']}\n",
      "{'배우이름': '이성민', '출연작': ['남산의 부장들', '비스트', '미스터 주: 사라진 VIP', '부당거래', '공작', '마이 리틀 히어로']}\n",
      "{'배우이름': '김아중', '출연작': ['나쁜 녀석들: 더 무비', '더 킹']}\n"
     ]
    }
   ],
   "source": [
    "# 흥행지수 >= 15000 이거나 랭킹 <= 20인 배우 이름과 출연영화 리스트 출력\n",
    "filter = {'$or':[{'흥행지수':{'$gte':15000}},{'랭킹':{'$lte':20}}]}\n",
    "field = {'배우이름':1, '출연작':1, '_id':0}\n",
    "\n",
    "for i in actors.find(filter, field):\n",
    "    print(i)"
   ]
  },
  {
   "cell_type": "code",
   "execution_count": 54,
   "metadata": {},
   "outputs": [
    {
     "name": "stdout",
     "output_type": "stream",
     "text": [
      "{'배우이름': '이병헌', '흥행지수': 45760}\n",
      "{'배우이름': '하정우', '흥행지수': 31124}\n",
      "{'배우이름': '마동석', '흥행지수': 19019}\n",
      "{'배우이름': '이성민', '흥행지수': 15213}\n"
     ]
    }
   ],
   "source": [
    "# $nor\n",
    "# 흥행지수 >= 15000, 성별 = 남\n",
    "match = {'$nor':[{'흥행지수':{'$lte':15000}},{'성별':'여'}]}\n",
    "field = {'배우이름':1, '흥행지수':1, '_id':0,}\n",
    "\n",
    "for i in actors.find(match, field):\n",
    "    print(i)"
   ]
  },
  {
   "cell_type": "markdown",
   "metadata": {},
   "source": [
    "### 5) sortByCount\n",
    "* aggregate()함수 사용"
   ]
  },
  {
   "cell_type": "code",
   "execution_count": 56,
   "metadata": {},
   "outputs": [
    {
     "name": "stdout",
     "output_type": "stream",
     "text": [
      "{'_id': None, 'count': 1715}\n",
      "{'_id': '아티스트컴퍼니', 'count': 16}\n",
      "{'_id': '싸이더스 HQ', 'count': 11}\n",
      "{'_id': '나무액터스', 'count': 10}\n",
      "{'_id': 'SM엔터테인먼트', 'count': 9}\n",
      "{'_id': '열음엔터테인먼트', 'count': 8}\n",
      "{'_id': '㈜사람엔터테인먼트', 'count': 6}\n",
      "{'_id': '키이스트', 'count': 4}\n",
      "{'_id': '씨에스엑터스', 'count': 4}\n",
      "{'_id': '지티비엔터테인먼트', 'count': 4}\n"
     ]
    }
   ],
   "source": [
    "# 소속사별 count\n",
    "match = [{'$sortByCount':\"$소속사\"}]\n",
    "match = [{'$sortByCount':\"$소속사\"},{'$match':{'count':{\"$gte\": 4}}}]\n",
    "for i in actors.aggregate(match):\n",
    "    print(i)"
   ]
  },
  {
   "cell_type": "markdown",
   "metadata": {},
   "source": [
    "### 6) list 검색\n",
    "* 리스트 안에 들어 있는 내용을 검색하기 위해서는 순서와 값이 정확하게 일치해야 한다.\n",
    "* 순서에 상관없이 값으로면 찾으려면 $all을 사용한다."
   ]
  },
  {
   "cell_type": "code",
   "execution_count": 95,
   "metadata": {},
   "outputs": [
    {
     "name": "stdout",
     "output_type": "stream",
     "text": [
      "{'배우이름': '이병헌', '출연작': ['백두산', '남산의 부장들', '내부자들', '그것만이 내 세상', '광해, 왕이 된 남자', '번지점프를 하다']}\n",
      "{'배우이름': '하정우', '출연작': ['백두산', '클로젯', '멋진 하루', '신과 함께-인과 연', '신과 함께-죄와 벌', '아가씨']}\n",
      "{'배우이름': '마동석', '출연작': ['나쁜 녀석들: 더 무비', '악인전', '노리개: 그녀의 눈물', '부당거래', '부산행', '신과 함께-인과 연']}\n",
      "{'배우이름': '이성민', '출연작': ['남산의 부장들', '비스트', '미스터 주: 사라진 VIP', '부당거래', '공작', '마이 리틀 히어로']}\n",
      "{'배우이름': '박정민', '출연작': ['시동', '다만 악에서 구하소서', '타짜: 원 아이드 잭', '사냥의 시간', '그것만이 내 세상', '동주']}\n",
      "{'배우이름': '조진웅', '출연작': ['광대들: 풍문조작단', '퍼펙트맨', '블랙머니', '장수상회', '사라진 시간', '명량']}\n",
      "{'배우이름': '조정석', '출연작': ['엑시트', '형', '시간이탈자', '특종: 량첸살인기', '뺑반', '나의 사랑 나의 신부']}\n",
      "{'배우이름': '곽도원', '출연작': ['남산의 부장들', '강철비2: 정상회담', '변호인', '아수라', '무뢰한', '범죄와의 전쟁 : 나쁜놈들 전성시대']}\n",
      "{'배우이름': '유해진', '출연작': ['봉오동 전투', '부당거래', '타짜', '베테랑', '말모이', '럭키']}\n",
      "{'배우이름': '류준열', '출연작': ['봉오동 전투', '리틀 포레스트', '뺑반', '돈', '택시운전사', '더 킹']}\n"
     ]
    }
   ],
   "source": [
    "# 출연영화 리스트에 '반도' 를 포함하는 경우\n",
    "match = {'출연작':'반도'}\n",
    "# 출연영화 리스트에 '1987'또는 '반도'를 포함하는 경우\n",
    "match = {'$or':[{'출연작':'1987'},{'출연작': '반도'}]}\n",
    "field = {'배우이름':1, '출연작':1, '_id':0}\n",
    "\n",
    "# 출연작 리스트에 '남산의 부장들' 과 '공작'을 포함하는 경우\n",
    "match = {'출연작':['남산의 부장들', '공작']} # 조건에 만족하지 않는다.(순서도 맞아야함)\n",
    "match = {'출연작':{'$all':['남산의 부장들', '공작']}} \n",
    "\n",
    "# 첫번째 출연작이 '결백'인 배우를 찾기\n",
    "match = {'출연작.0':'결백'}\n",
    "\n",
    "# 총 6편의 영화에 출연한 배우\n",
    "match = {'출연작':{'$size': 6}}\n",
    "\n",
    "for i in actors.find(match, field).limit(10):\n",
    "    print(i)\n"
   ]
  },
  {
   "cell_type": "markdown",
   "metadata": {},
   "source": [
    "### 7) limit()\n"
   ]
  },
  {
   "cell_type": "code",
   "execution_count": 88,
   "metadata": {},
   "outputs": [
    {
     "name": "stdout",
     "output_type": "stream",
     "text": [
      "배수지 12646\n",
      "임윤아 12343\n",
      "최민호 2008\n",
      "RM 1061\n",
      "진 909\n",
      "슈가 758\n",
      "제이홉 606\n",
      "준호 518\n",
      "지민 455\n",
      "김소혜 324\n"
     ]
    }
   ],
   "source": [
    "# 직업이 가수이면서 흥행지수가 높은 상위 10명의 배우는?\n",
    "for i in actors.find({'직업':'가수'}).sort('흥행지수', -1).limit(10):\n",
    "    print(i['배우이름'], i['흥행지수'])"
   ]
  },
  {
   "cell_type": "code",
   "execution_count": 94,
   "metadata": {},
   "outputs": [
    {
     "name": "stdout",
     "output_type": "stream",
     "text": [
      "유아인 12422 ['＃살아있다', '베테랑', '버닝', '국가부도의 날', '우아한 거짓말']\n",
      "조우진 8725 ['봉오동 전투', '내부자들', '돈', '국가부도의 날', '어쩌다, 결혼', '창궐']\n",
      "허준호 6739 ['천문: 하늘에 묻는다', '퍼펙트맨', '결백', '국가부도의 날', '인랑']\n",
      "전배수 1761 ['＃살아있다', '광해, 왕이 된 남자', '기묘한 가족', '국가부도의 날']\n",
      "송영창 1715 ['정직한 후보', '변호인', '베테랑', '말모이', '국가부도의 날', '해빙']\n",
      "김민상 121 ['남산의 부장들', '국가부도의 날', '럭키']\n",
      "염혜란 90 ['야구소녀', '걸캅스', '아이 캔 스피크', '증인', '미성년', '국가부도의 날']\n",
      "류덕환 46 ['난폭한 기록', '국가부도의 날', '천하장사 마돈나']\n",
      "김혜수 2 ['도둑들', '타짜', '국가부도의 날']\n",
      "박진주 0 ['스윙키즈', '국가부도의 날']\n"
     ]
    }
   ],
   "source": [
    "# '국가부도의 날' 에 출연한 배우를 흥행지수가 높은 순으로 10명 출력하기\n",
    "for i in actors.find({'출연작':'국가부도의 날'},{'_id':0}).sort('흥행지수',-1).limit(10):\n",
    "    print(i['배우이름'], i['흥행지수'],i['출연작'])"
   ]
  }
 ],
 "metadata": {
  "kernelspec": {
   "display_name": "Python 3",
   "language": "python",
   "name": "python3"
  },
  "language_info": {
   "codemirror_mode": {
    "name": "ipython",
    "version": 3
   },
   "file_extension": ".py",
   "mimetype": "text/x-python",
   "name": "python",
   "nbconvert_exporter": "python",
   "pygments_lexer": "ipython3",
   "version": "3.7.0"
  }
 },
 "nbformat": 4,
 "nbformat_minor": 2
}
