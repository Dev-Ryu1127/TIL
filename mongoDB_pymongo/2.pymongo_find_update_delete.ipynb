{
 "cells": [
  {
   "cell_type": "code",
   "execution_count": 2,
   "metadata": {},
   "outputs": [
    {
     "name": "stdout",
     "output_type": "stream",
     "text": [
      "Name: pymongo\n",
      "Version: 3.10.1\n",
      "Summary: Python driver for MongoDB <http://www.mongodb.org>\n",
      "Home-page: http://github.com/mongodb/mongo-python-driver\n",
      "Author: Mike Dirolf\n",
      "Author-email: mongodb-user@googlegroups.com\n",
      "License: Apache License, Version 2.0\n",
      "Location: c:\\anaconda3\\lib\\site-packages\n",
      "Requires: \n",
      "Required-by: \n"
     ]
    },
    {
     "name": "stderr",
     "output_type": "stream",
     "text": [
      "You are using pip version 10.0.1, however version 20.2b1 is available.\n",
      "You should consider upgrading via the 'python -m pip install --upgrade pip' command.\n"
     ]
    }
   ],
   "source": [
    "!pip show pymongo"
   ]
  },
  {
   "cell_type": "markdown",
   "metadata": {},
   "source": [
    "---\n",
    "### Pymongo를 사용해서 MongoDB 제어하기\n",
    "1. pymongo라이브러리 import\n",
    "2. MongoDB 접속\n",
    "3. database, Collection 생성\n",
    "4. Collection의 document를 CRUD하기\n",
    "\n",
    "\n",
    "\n",
    "---\n",
    "### MongoDB 연결하고 db, collection 생성"
   ]
  },
  {
   "cell_type": "code",
   "execution_count": 10,
   "metadata": {},
   "outputs": [
    {
     "name": "stdout",
     "output_type": "stream",
     "text": [
      "MongoClient(host=['localhost:27017'], document_class=dict, tz_aware=False, connect=True)\n",
      "Database(MongoClient(host=['localhost:27017'], document_class=dict, tz_aware=False, connect=True), 'pymongo_db')\n",
      "pymongo_db\n",
      "Collection(Database(MongoClient(host=['localhost:27017'], document_class=dict, tz_aware=False, connect=True), 'pymongo_db'), 'pymongo_col')\n",
      "pymongo_col\n"
     ]
    }
   ],
   "source": [
    "import pymongo\n",
    "\n",
    "# mongoDB 연결\n",
    "conn = pymongo.MongoClient(host=\"localhost\", port=27017)\n",
    "print(conn) \n",
    "\n",
    "# database 생성\n",
    "db = conn.pymongo_db \n",
    "print(db) \n",
    "print(db.name)\n",
    "\n",
    "# collection 생성\n",
    "col = db.pymongo_col\n",
    "print(col)\n",
    "print(col.name)"
   ]
  },
  {
   "cell_type": "markdown",
   "metadata": {},
   "source": [
    "---\n",
    "### Insert_one(), insert_many()"
   ]
  },
  {
   "cell_type": "code",
   "execution_count": 22,
   "metadata": {},
   "outputs": [
    {
     "name": "stdout",
     "output_type": "stream",
     "text": [
      "<pymongo.results.InsertOneResult object at 0x000002747D42BC88>\n",
      "5f22621d3c8e4047a3981b96\n"
     ]
    }
   ],
   "source": [
    "post = {\"author\": \"길동\", \"text\":\"첫번째 글\", \"tags\":[\"mongodb\", \"python\", \"pymongo\"]}\n",
    "result = col.insert_one(post)\n",
    "print(result) # 객체를 출력 ( type이 나옴)\n",
    "print(result.inserted_id) # 넣은 document 의 아이디를 조회"
   ]
  },
  {
   "cell_type": "code",
   "execution_count": 14,
   "metadata": {},
   "outputs": [
    {
     "data": {
      "text/plain": [
       "<pymongo.cursor.Cursor at 0x2747d431e10>"
      ]
     },
     "execution_count": 14,
     "metadata": {},
     "output_type": "execute_result"
    }
   ],
   "source": [
    "col.find()"
   ]
  },
  {
   "cell_type": "code",
   "execution_count": 15,
   "metadata": {},
   "outputs": [
    {
     "name": "stdout",
     "output_type": "stream",
     "text": [
      "<class 'dict'>\n",
      "{'_id': ObjectId('5f225fd83c8e4047a3981b91'), 'author': '길동', 'text': '첫번째 글', 'tags': ['mongodb', 'python', 'pymongo']}\n"
     ]
    }
   ],
   "source": [
    "for post in col.find():\n",
    "    print(type(post))\n",
    "    print(post)"
   ]
  },
  {
   "cell_type": "code",
   "execution_count": 17,
   "metadata": {},
   "outputs": [
    {
     "data": {
      "text/plain": [
       "1"
      ]
     },
     "execution_count": 17,
     "metadata": {},
     "output_type": "execute_result"
    }
   ],
   "source": [
    "# document 갯수 알아내기\n",
    "col.count_documents({})"
   ]
  },
  {
   "cell_type": "code",
   "execution_count": 19,
   "metadata": {},
   "outputs": [
    {
     "data": {
      "text/plain": [
       "<pymongo.results.InsertManyResult at 0x2747d42b888>"
      ]
     },
     "execution_count": 19,
     "metadata": {},
     "output_type": "execute_result"
    }
   ],
   "source": [
    "# insert many 사용 : 여러개의 document를 한꺼번에 등록\n",
    "posts = [\n",
    "    {\"author\":\"둘리\", \"age\": 10},\n",
    "    {\"author\":\"바다\", \"age\": 20},\n",
    "    {\"author\":\"연못\", \"age\": 30},\n",
    "]\n",
    "col.insert_many(posts)"
   ]
  },
  {
   "cell_type": "code",
   "execution_count": 23,
   "metadata": {},
   "outputs": [
    {
     "name": "stdout",
     "output_type": "stream",
     "text": [
      "6\n",
      "{'_id': ObjectId('5f225fd83c8e4047a3981b91'), 'author': '길동', 'text': '첫번째 글', 'tags': ['mongodb', 'python', 'pymongo']}\n",
      "{'_id': ObjectId('5f2261653c8e4047a3981b92'), 'author': '둘리', 'age': 10}\n",
      "{'_id': ObjectId('5f2261653c8e4047a3981b93'), 'author': '바다', 'age': 20}\n",
      "{'_id': ObjectId('5f2261653c8e4047a3981b94'), 'author': '연못', 'age': 30}\n",
      "{'_id': ObjectId('5f2261fb3c8e4047a3981b95'), 'author': '길동', 'text': '첫번째 글', 'tags': ['mongodb', 'python', 'pymongo']}\n",
      "{'_id': ObjectId('5f22621d3c8e4047a3981b96'), 'author': '길동', 'text': '첫번째 글', 'tags': ['mongodb', 'python', 'pymongo']}\n"
     ]
    }
   ],
   "source": [
    "print(col.count_documents({}))\n",
    "\n",
    "for post in col.find():\n",
    "    print(post)\n",
    "    "
   ]
  },
  {
   "cell_type": "code",
   "execution_count": 34,
   "metadata": {},
   "outputs": [
    {
     "name": "stdout",
     "output_type": "stream",
     "text": [
      "{'author': '길동', 'text': '첫번째 글'}\n",
      "{'author': '길동', 'text': '첫번째 글'}\n",
      "{'author': '길동', 'text': '첫번째 글'}\n",
      "{'author': '둘리', 'age': 10}\n",
      "{'author': '바다', 'age': 20}\n",
      "{'author': '연못', 'age': 30}\n"
     ]
    }
   ],
   "source": [
    "for post in col.find({},{\"author\":1, \"age\":1, \"text\":1, \"_id\":0})\\\n",
    ".sort(\"age\", pymongo.ASCENDING):\n",
    "    print(post)"
   ]
  },
  {
   "cell_type": "code",
   "execution_count": 36,
   "metadata": {},
   "outputs": [
    {
     "name": "stdout",
     "output_type": "stream",
     "text": [
      "Collection(Database(MongoClient(host=['localhost:27017'], document_class=dict, tz_aware=False, connect=True), 'pymongo_db'), 'employees')\n"
     ]
    }
   ],
   "source": [
    "# employees collection 생성하기\n",
    "emp = db.employees\n",
    "print(emp)"
   ]
  },
  {
   "cell_type": "code",
   "execution_count": 76,
   "metadata": {},
   "outputs": [
    {
     "data": {
      "text/plain": [
       "<pymongo.results.InsertManyResult at 0x2747d150b48>"
      ]
     },
     "execution_count": 76,
     "metadata": {},
     "output_type": "execute_result"
    }
   ],
   "source": [
    "import datetime # 날짜 데이터 포맷을 위함\n",
    "\n",
    "emp_list = [\n",
    "{\"number\":1001,\"last_name\":\"Smith\",\"first_name\":\"John\",\"salary\":62000,\"department\":\"sales\", \"hire_date\":datetime.datetime.strptime(\"2016-01-02\",'%Y-%m-%d')},\n",
    "{\"number\":1002,\"last_name\":\"Anderson\",\"first_name\":\"Jane\",\"salary\":57500,\"department\":\"marketing\", \"hire_date\":datetime.datetime.strptime(\"2013-11-09\",'%Y-%m-%d')},\n",
    "{\"number\":1003,\"last_name\":\"Everest\",\"first_name\":\"Brad\",\"salary\":71000,\"department\":\"sales\", \"hire_date\":datetime.datetime.strptime(\"2017-02-03\",'%Y-%m-%d')},\n",
    "{\"number\":1004,\"last_name\":\"Horvath\",\"first_name\":\"Jack\",\"salary\":42000,\"department\":\"marketing\", \"hire_date\":datetime.datetime.strptime(\"2017-06-01\",'%Y-%m-%d')},\n",
    "]\n",
    "emp.insert_many(emp_list)\n",
    "# emp.delete_many({})"
   ]
  },
  {
   "cell_type": "code",
   "execution_count": 77,
   "metadata": {},
   "outputs": [
    {
     "name": "stdout",
     "output_type": "stream",
     "text": [
      "{'number': 1001, 'last_name': 'Smith', 'first_name': 'John', 'salary': 62000, 'department': 'sales', 'hire_date': datetime.datetime(2016, 1, 2, 0, 0)}\n",
      "{'number': 1002, 'last_name': 'Anderson', 'first_name': 'Jane', 'salary': 57500, 'department': 'marketing', 'hire_date': datetime.datetime(2013, 11, 9, 0, 0)}\n",
      "{'number': 1003, 'last_name': 'Everest', 'first_name': 'Brad', 'salary': 71000, 'department': 'sales', 'hire_date': datetime.datetime(2017, 2, 3, 0, 0)}\n",
      "{'number': 1004, 'last_name': 'Horvath', 'first_name': 'Jack', 'salary': 42000, 'department': 'marketing', 'hire_date': datetime.datetime(2017, 6, 1, 0, 0)}\n"
     ]
    }
   ],
   "source": [
    "for e in emp.find({},{\"_id\":0}):\n",
    "    print(e)"
   ]
  },
  {
   "cell_type": "code",
   "execution_count": 78,
   "metadata": {},
   "outputs": [
    {
     "name": "stdout",
     "output_type": "stream",
     "text": [
      "{'number': 1001, 'last_name': 'Smith', 'first_name': 'John', 'salary': 62000, 'department': 'sales', 'hire_date': datetime.datetime(2016, 1, 2, 0, 0)}\n",
      "{'number': 1002, 'last_name': 'Anderson', 'first_name': 'Jane', 'salary': 57500, 'department': 'marketing', 'hire_date': datetime.datetime(2013, 11, 9, 0, 0)}\n"
     ]
    }
   ],
   "source": [
    "# first_name like %a%\n",
    "filt = {\"first_name\" : {\"$regex\": \"a\"}}\n",
    "filt = {\"first_name\" : {\"$regex\": \"^J\"}}\n",
    "filt = {\"last_name\" : {\"$regex\": \"h$\"}}\n",
    "\n",
    "from datetime import datetime\n",
    "from_dt = datetime.strptime(\"2016-01-02\",\"%Y-%m-%d\")\n",
    "to_dt = datetime.strptime(\"2017-05-30\",\"%Y-%m-%d\")\n",
    "\n",
    "filt = {\n",
    "        \"hire_date\":{\"$gte\": from_dt},\n",
    "        \"hire_date\":{ \"$lte\": to_dt}\n",
    "       }\n",
    "filt = {\"hire_date\":{\"$gte\": from_dt, \"$lte\": to_dt}}\n",
    "\n",
    "filt = {\n",
    "    \"number\":{\"$in\":[1001,1002]}\n",
    "}\n",
    "for empolyee in emp.find(filt, {\"_id\":0}):\n",
    "    print(empolyee)"
   ]
  },
  {
   "cell_type": "markdown",
   "metadata": {},
   "source": [
    "---\n",
    "### update_one(), update_many()"
   ]
  },
  {
   "cell_type": "code",
   "execution_count": 79,
   "metadata": {},
   "outputs": [
    {
     "data": {
      "text/plain": [
       "<pymongo.results.UpdateResult at 0x2747d427608>"
      ]
     },
     "execution_count": 79,
     "metadata": {},
     "output_type": "execute_result"
    }
   ],
   "source": [
    "# 1001번의 부서를 바꾸기\n",
    "emp.update_one({\"number\":1001}, {\"$set\":{\"department\":\"marketing\"}})\n",
    "\n",
    "# number=1001 의 salary 62000 -> 63000\n",
    "emp.update_one({\"number\":1001},{\"$set\":{\"salary\": 63000}})"
   ]
  },
  {
   "cell_type": "code",
   "execution_count": 80,
   "metadata": {},
   "outputs": [
    {
     "data": {
      "text/plain": [
       "<pymongo.results.UpdateResult at 0x2747d529988>"
      ]
     },
     "execution_count": 80,
     "metadata": {},
     "output_type": "execute_result"
    }
   ],
   "source": [
    "emp.update_many({},{\"$set\":{\"status\":\"A\"}})"
   ]
  },
  {
   "cell_type": "code",
   "execution_count": 82,
   "metadata": {},
   "outputs": [
    {
     "name": "stdout",
     "output_type": "stream",
     "text": [
      "{'number': 1001, 'last_name': 'Smith', 'first_name': 'John', 'salary': 63000, 'department': 'marketing', 'hire_date': datetime.datetime(2016, 1, 2, 0, 0), 'status': 'A'}\n",
      "{'number': 1002, 'last_name': 'Anderson', 'first_name': 'Jane', 'salary': 57500, 'department': 'marketing', 'hire_date': datetime.datetime(2013, 11, 9, 0, 0), 'status': 'A'}\n",
      "{'number': 1003, 'last_name': 'Everest', 'first_name': 'Brad', 'salary': 71000, 'department': 'sales', 'hire_date': datetime.datetime(2017, 2, 3, 0, 0), 'status': 'A'}\n",
      "{'number': 1004, 'last_name': 'Horvath', 'first_name': 'Jack', 'salary': 42000, 'department': 'marketing', 'hire_date': datetime.datetime(2017, 6, 1, 0, 0), 'status': 'A'}\n"
     ]
    }
   ],
   "source": [
    "for employee in emp.find({},{\"_id\":0}):\n",
    "    print(employee)"
   ]
  },
  {
   "cell_type": "code",
   "execution_count": 83,
   "metadata": {},
   "outputs": [
    {
     "data": {
      "text/plain": [
       "<pymongo.results.UpdateResult at 0x2747d5133c8>"
      ]
     },
     "execution_count": 83,
     "metadata": {},
     "output_type": "execute_result"
    }
   ],
   "source": [
    "# update_many()\n",
    "# number in [1003, 1004] status = 'B' 로 update()\n",
    "emp.update_many({\"number\":{\"$in\":[1003,1004]}},{\"$set\":{\"status\":'B'}})"
   ]
  },
  {
   "cell_type": "code",
   "execution_count": 84,
   "metadata": {},
   "outputs": [
    {
     "name": "stdout",
     "output_type": "stream",
     "text": [
      "{'number': 1001, 'last_name': 'Smith', 'first_name': 'John', 'salary': 63000, 'department': 'marketing', 'hire_date': datetime.datetime(2016, 1, 2, 0, 0), 'status': 'A'}\n",
      "{'number': 1002, 'last_name': 'Anderson', 'first_name': 'Jane', 'salary': 57500, 'department': 'marketing', 'hire_date': datetime.datetime(2013, 11, 9, 0, 0), 'status': 'A'}\n",
      "{'number': 1003, 'last_name': 'Everest', 'first_name': 'Brad', 'salary': 71000, 'department': 'sales', 'hire_date': datetime.datetime(2017, 2, 3, 0, 0), 'status': 'B'}\n",
      "{'number': 1004, 'last_name': 'Horvath', 'first_name': 'Jack', 'salary': 42000, 'department': 'marketing', 'hire_date': datetime.datetime(2017, 6, 1, 0, 0), 'status': 'B'}\n"
     ]
    }
   ],
   "source": [
    "for employee in emp.find({},{\"_id\":0}):\n",
    "    print(employee)"
   ]
  },
  {
   "cell_type": "markdown",
   "metadata": {},
   "source": [
    "---\n",
    "### delete_many()"
   ]
  },
  {
   "cell_type": "code",
   "execution_count": 85,
   "metadata": {},
   "outputs": [
    {
     "data": {
      "text/plain": [
       "<pymongo.results.DeleteResult at 0x2747d4d3348>"
      ]
     },
     "execution_count": 85,
     "metadata": {},
     "output_type": "execute_result"
    }
   ],
   "source": [
    "# delete_many()\n",
    "# status = 'B'\n",
    "emp.delete_many({\"status\": 'B'})"
   ]
  },
  {
   "cell_type": "code",
   "execution_count": 86,
   "metadata": {},
   "outputs": [
    {
     "name": "stdout",
     "output_type": "stream",
     "text": [
      "{'number': 1001, 'last_name': 'Smith', 'first_name': 'John', 'salary': 63000, 'department': 'marketing', 'hire_date': datetime.datetime(2016, 1, 2, 0, 0), 'status': 'A'}\n",
      "{'number': 1002, 'last_name': 'Anderson', 'first_name': 'Jane', 'salary': 57500, 'department': 'marketing', 'hire_date': datetime.datetime(2013, 11, 9, 0, 0), 'status': 'A'}\n"
     ]
    }
   ],
   "source": [
    "for employee in emp.find({},{\"_id\":0}):\n",
    "    print(employee)"
   ]
  }
 ],
 "metadata": {
  "kernelspec": {
   "display_name": "Python 3",
   "language": "python",
   "name": "python3"
  },
  "language_info": {
   "codemirror_mode": {
    "name": "ipython",
    "version": 3
   },
   "file_extension": ".py",
   "mimetype": "text/x-python",
   "name": "python",
   "nbconvert_exporter": "python",
   "pygments_lexer": "ipython3",
   "version": "3.7.0"
  }
 },
 "nbformat": 4,
 "nbformat_minor": 2
}
