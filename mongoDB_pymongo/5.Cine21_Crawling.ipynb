{
 "cells": [
  {
   "cell_type": "markdown",
   "metadata": {},
   "source": [
    "### Cine21 영화배우 정보 크롤링\n",
    "* site 주소\n",
    "    * http://www.cine21.com/rank/person/\n",
    "* 개발자 도구에서 XHR인 것만 필터링 network -> content 페이지의 요청방식 확인\n",
    "* Request URL : http://www.cine21.com/rank/person/content\n",
    "* Request Method : POST\n",
    "* From Data (1개월치 데이터)\n",
    "    - section: actor\n",
    "    - period_start: 2020-07\n",
    "    - gender: all\n",
    "    - page: 1\n",
    "* 1~2 년치 데이터를 한꺼번에 크롤링 해서 actor.json파일로 저장하기"
   ]
  },
  {
   "cell_type": "code",
   "execution_count": 20,
   "metadata": {},
   "outputs": [],
   "source": [
    "from bs4 import BeautifulSoup\n",
    "import requests\n",
    "import re\n",
    "import pymongo\n",
    "from urllib.parse import urljoin"
   ]
  },
  {
   "cell_type": "markdown",
   "metadata": {},
   "source": [
    "---\n",
    "### 정규표현식\n",
    "* \\w 는 문자와 숫자\n",
    "* [xy] : x,y중 하나이상을 찾습니다.\n",
    "* re.complie(r'[xy]') 는 해당 정규표현식을 찾아주는 컴파일러를 생성해주는 함수\n",
    "    * complie 함수 안에 정규표현식 앞에는 항상 r을 붙인다\n",
    "\n",
    "* * : 0 ~ n (횟수), + : 1 ~ n, ? : 0(zero) or 1\n",
    "* .(period) : 줄바꿈 문자(\\n)을 제외한 모든 글자 1개를 의미한다\n",
    "* .* 는 문자가 0번 또는 그 이상 반복되는 패턴\n",
    "* Greedy(.*) vs Non-Greedy(.*?)\n",
    "    * Greedy : 모든 태그가 선택됨\n",
    "    * Non-Greedy : 첫번째 매칭되는 태그만 선택됨\n",
    "    * ![non_greedy](mongoDB_pymongo/5/5_1.PNG)\n",
    "---"
   ]
  },
  {
   "cell_type": "code",
   "execution_count": 62,
   "metadata": {},
   "outputs": [
    {
     "name": "stdout",
     "output_type": "stream",
     "text": [
      "True\n"
     ]
    },
    {
     "data": {
      "text/plain": [
       "4"
      ]
     },
     "execution_count": 62,
     "metadata": {},
     "output_type": "execute_result"
    }
   ],
   "source": [
    "actor_url = 'http://www.cine21.com/rank/person/content'\n",
    "\n",
    "formdata = dict()\n",
    "formdata['section'] = 'actor'\n",
    "formdata['period_start'] = '2020-07'\n",
    "formdata['gender'] = 'all'\n",
    "formdata['page'] = 1\n",
    "\n",
    "res = requests.post(actor_url, data=formdata)\n",
    "print(res.ok)\n",
    "soup = BeautifulSoup(res.text, 'html.parser')\n",
    "len(soup)"
   ]
  },
  {
   "cell_type": "markdown",
   "metadata": {},
   "source": [
    "---\n",
    "### 1단계 : 세부 페이지의 배우 정보 담기"
   ]
  },
  {
   "cell_type": "code",
   "execution_count": 55,
   "metadata": {},
   "outputs": [
    {
     "name": "stdout",
     "output_type": "stream",
     "text": [
      "강동원\n",
      "http://www.cine21.com/db/person/info/?person_id=18040\n",
      "이정현\n",
      "http://www.cine21.com/db/person/info/?person_id=2760\n",
      "이레\n",
      "http://www.cine21.com/db/person/info/?person_id=87306\n",
      "권해효\n",
      "http://www.cine21.com/db/person/info/?person_id=167\n",
      "구교환\n",
      "http://www.cine21.com/db/person/info/?person_id=71787\n",
      "김민재\n",
      "http://www.cine21.com/db/person/info/?person_id=40151\n",
      "유아인\n",
      "http://www.cine21.com/db/person/info/?person_id=57657\n"
     ]
    },
    {
     "data": {
      "text/plain": [
       "[{'직업': '배우',\n",
       "  '생년월일': '1981-01-18',\n",
       "  '성별': '남',\n",
       "  '홈페이지': 'http://www.gangdongwon.com',\n",
       "  '신장/체중': '186cm, 68kg',\n",
       "  '학교': '한양대 - 상명대학교대학원 연극영화 (석사과정 재학)',\n",
       "  '취미': '음악감상, 웹서핑, 운동, 신발 모으기',\n",
       "  '특기': '축구'},\n",
       " {'직업': '배우',\n",
       "  '생년월일': '1980-02-07',\n",
       "  '성별': '여',\n",
       "  '홈페이지': 'https://www.instagram.com/mermaidleejh/https://twitter.com/mermaidjh',\n",
       "  '신장/체중': '158cm, 38kg',\n",
       "  '학교': '중앙대학교 연극영화',\n",
       "  '취미': '바비 인형 수집, 피아노 연주',\n",
       "  '특기': '별관찰, 시나리오 쓰기',\n",
       "  '소속사': '에이바 앤 엔터테인먼트'},\n",
       " {'직업': '배우',\n",
       "  '생년월일': '2006-03-12',\n",
       "  '성별': '여',\n",
       "  '홈페이지': 'https://www.facebook.com/leere.vv/'},\n",
       " {'직업': '배우',\n",
       "  '생년월일': '1965-11-06',\n",
       "  '성별': '남',\n",
       "  '신장/체중': '170cm, 62kg',\n",
       "  '학교': '한양대학교 연극영화학 졸업'},\n",
       " {'직업': '배우', '생년월일': '1982-12-14', '성별': '남'},\n",
       " {'직업': '배우',\n",
       "  '생년월일': '1979-03-20',\n",
       "  '성별': '남',\n",
       "  '홈페이지': 'https://www.facebook.com/cjesminjae',\n",
       "  '학교': '한국예술종합학교'},\n",
       " {'다른 이름': '엄홍식',\n",
       "  '직업': '배우',\n",
       "  '생년월일': '1986-10-06',\n",
       "  '성별': '남',\n",
       "  '홈페이지': 'https://www.instagram.com/hongsick/https://twitter.com/seeksik',\n",
       "  '신장/체중': '178cm, 60kg',\n",
       "  '학교': '단국대학교 연극',\n",
       "  '취미': '피아노 연주, 인터넷 게임, 영화, 음악감상',\n",
       "  '특기': '스노우보드, 수영'}]"
      ]
     },
     "execution_count": 55,
     "metadata": {},
     "output_type": "execute_result"
    }
   ],
   "source": [
    "actor_item_list = list() # 세부 페이지의 배우정보를 담을 리스트\n",
    "\n",
    "for actor in soup.select('li.people_li div.name'):\n",
    "#     print(actor.text)\n",
    "    print(re.sub('\\(\\w*\\)' , '' , actor.text)) ## 이름\n",
    "    actor_detail_url = urljoin(actor_url,actor.select_one('a')['href'])\n",
    "    print(actor_detail_url) ## 세부 페이지 url\n",
    "    \n",
    "    ### 세부 페이지 post  ###\n",
    "    res2 = requests.post(actor_detail_url, data=formdata)\n",
    "#     print(res2.ok)\n",
    "    soup2 = BeautifulSoup(res2.text, 'html.parser')\n",
    "    \n",
    "    \n",
    "    ### 세부 페이지 크롤링 ###\n",
    "    actor_item_dict = dict()\n",
    "    for li_tag in soup2.select('ul.default_info li'):\n",
    "#         print(li_tag)\n",
    "        actor_item_field = li_tag.select_one('span.tit').text\n",
    "#         print(actor_item_field) # 항목의 제목을 가져옴\n",
    "        \n",
    "        # 정규표현식을 사용하여 item_value를 가져옴\n",
    "        actor_item_value = re.sub('<span.*?>.*?</span>','', str(li_tag))\n",
    "        actor_item_value = re.sub('<.*?>','',actor_item_value)\n",
    "        regex = re.compile(r'[\\n\\t\\r]')\n",
    "        actor_item_value = regex.sub('',actor_item_value)\n",
    "#         print(actor_item_value)\n",
    "        \n",
    "        actor_item_dict[actor_item_field] = actor_item_value\n",
    "#     print(actor_item_dict,'\\n')\n",
    "    actor_item_list.append(actor_item_dict)\n",
    "    \n",
    "\n",
    "actor_item_list\n",
    "        \n"
   ]
  },
  {
   "cell_type": "markdown",
   "metadata": {},
   "source": [
    "---\n",
    "#### 정규표현식 test"
   ]
  },
  {
   "cell_type": "code",
   "execution_count": 15,
   "metadata": {},
   "outputs": [
    {
     "data": {
      "text/plain": [
       "'강동원'"
      ]
     },
     "execution_count": 15,
     "metadata": {},
     "output_type": "execute_result"
    }
   ],
   "source": [
    "# 정규표현식을 사용하여 원하는 text 뽑아내기\n",
    "test_date = '강동원(1편)'\n",
    "re.sub('\\(\\w*\\)' , '' , test_date)"
   ]
  },
  {
   "cell_type": "markdown",
   "metadata": {},
   "source": [
    "---"
   ]
  },
  {
   "cell_type": "code",
   "execution_count": 43,
   "metadata": {},
   "outputs": [
    {
     "data": {
      "text/plain": [
       "'홈페이지https://www.facebook.com/cjesminjae'"
      ]
     },
     "execution_count": 43,
     "metadata": {},
     "output_type": "execute_result"
    }
   ],
   "source": [
    "test_data = '''\n",
    "홈페이지\n",
    "\n",
    "https://www.facebook.com/cjesminjae\n",
    "\n",
    "'''\n",
    "\n",
    "regex = re.compile(r'[\\n\\r\\t]')\n",
    "regex.sub('', test_data)"
   ]
  },
  {
   "cell_type": "markdown",
   "metadata": {},
   "source": [
    "---\n",
    "### 2단계 : 메인 페이지의 이름과 흥행지수 담기\n",
    "* 1page 에 있는 7명의 배우 정보를 리스트로 만들기"
   ]
  },
  {
   "cell_type": "code",
   "execution_count": 86,
   "metadata": {},
   "outputs": [
    {
     "name": "stdout",
     "output_type": "stream",
     "text": [
      "[<span>반도</span>] \n",
      "\n",
      "[<span>반도</span>] \n",
      "\n",
      "[<span>반도</span>] \n",
      "\n",
      "[<span>반도</span>] \n",
      "\n",
      "[<span>사이비</span>] \n",
      "\n",
      "[<span>한낮의 피크닉</span>] \n",
      "\n",
      "[<span>반도</span>] \n",
      "\n",
      "[<span>반도</span>] \n",
      "\n",
      "[<span>＃살아있다</span>] \n",
      "\n",
      "[<span>버닝</span>] \n",
      "\n"
     ]
    }
   ],
   "source": [
    "for actor in soup.select('ul.mov_list > li > a'):\n",
    "    mov_list = actor.select('span')\n",
    "    print(mov_list, '\\n')"
   ]
  },
  {
   "cell_type": "code",
   "execution_count": 103,
   "metadata": {},
   "outputs": [
    {
     "data": {
      "text/plain": [
       "[{'배우이름': '강동원',\n",
       "  '흥행지수': 159665,\n",
       "  '출연작': ['반도'],\n",
       "  '순위': 1,\n",
       "  '직업': '배우',\n",
       "  '생년월일': '1981-01-18',\n",
       "  '성별': '남',\n",
       "  '홈페이지': 'http://www.gangdongwon.com',\n",
       "  '신장/체중': '186cm, 68kg',\n",
       "  '학교': '한양대 - 상명대학교대학원 연극영화 (석사과정 재학)',\n",
       "  '취미': '음악감상, 웹서핑, 운동, 신발 모으기',\n",
       "  '특기': '축구'},\n",
       " {'배우이름': '이정현',\n",
       "  '흥행지수': 139707,\n",
       "  '출연작': ['반도'],\n",
       "  '순위': 2,\n",
       "  '직업': '배우',\n",
       "  '생년월일': '1980-02-07',\n",
       "  '성별': '여',\n",
       "  '홈페이지': 'https://www.instagram.com/mermaidleejh/https://twitter.com/mermaidjh',\n",
       "  '신장/체중': '158cm, 38kg',\n",
       "  '학교': '중앙대학교 연극영화',\n",
       "  '취미': '바비 인형 수집, 피아노 연주',\n",
       "  '특기': '별관찰, 시나리오 쓰기',\n",
       "  '소속사': '에이바 앤 엔터테인먼트'},\n",
       " {'배우이름': '이레',\n",
       "  '흥행지수': 119748,\n",
       "  '출연작': ['반도'],\n",
       "  '순위': 3,\n",
       "  '직업': '배우',\n",
       "  '생년월일': '2006-03-12',\n",
       "  '성별': '여',\n",
       "  '홈페이지': 'https://www.facebook.com/leere.vv/'},\n",
       " {'배우이름': '권해효',\n",
       "  '흥행지수': 99795,\n",
       "  '출연작': ['반도', '사이비', '한낮의 피크닉'],\n",
       "  '순위': 4,\n",
       "  '직업': '배우',\n",
       "  '생년월일': '1965-11-06',\n",
       "  '성별': '남',\n",
       "  '신장/체중': '170cm, 62kg',\n",
       "  '학교': '한양대학교 연극영화학 졸업'},\n",
       " {'배우이름': '구교환',\n",
       "  '흥행지수': 79832,\n",
       "  '출연작': ['반도'],\n",
       "  '순위': 5,\n",
       "  '직업': '배우',\n",
       "  '생년월일': '1982-12-14',\n",
       "  '성별': '남'},\n",
       " {'배우이름': '김민재',\n",
       "  '흥행지수': 59874,\n",
       "  '출연작': ['반도'],\n",
       "  '순위': 6,\n",
       "  '직업': '배우',\n",
       "  '생년월일': '1979-03-20',\n",
       "  '성별': '남',\n",
       "  '홈페이지': 'https://www.facebook.com/cjesminjae',\n",
       "  '학교': '한국예술종합학교'},\n",
       " {'배우이름': '유아인',\n",
       "  '흥행지수': 54589,\n",
       "  '출연작': ['＃살아있다', '버닝'],\n",
       "  '순위': 7,\n",
       "  '다른 이름': '엄홍식',\n",
       "  '직업': '배우',\n",
       "  '생년월일': '1986-10-06',\n",
       "  '성별': '남',\n",
       "  '홈페이지': 'https://www.instagram.com/hongsick/https://twitter.com/seeksik',\n",
       "  '신장/체중': '178cm, 60kg',\n",
       "  '학교': '단국대학교 연극',\n",
       "  '취미': '피아노 연주, 인터넷 게임, 영화, 음악감상',\n",
       "  '특기': '스노우보드, 수영'}]"
      ]
     },
     "execution_count": 103,
     "metadata": {},
     "output_type": "execute_result"
    }
   ],
   "source": [
    "actor_item_list = list() # 배우의 모든 정보를 담을 리스트 (이름, 흥행지수, 출연작, 등)\n",
    "\n",
    "actors = soup.select('li.people_li div.name')\n",
    "hits = soup.select('ul.num_info > li > strong') # 흥행지수\n",
    "movies = soup.select('ul.mov_list') # 영화목록\n",
    "rank = soup.select('span.grade')\n",
    "\n",
    "for idx, actor in enumerate(actors):\n",
    "#     print(actor)\n",
    "    # 강동원(1편) 에서 (1편)을 제거하고 저장한다.\n",
    "    actor_name = re.sub('\\(\\w*\\)' , '' , actor.text) # 배우 이름\n",
    "    \n",
    "    # idx번째 배우의 흥행지수\n",
    "    actor_hit = int(hits[idx].text.replace(',','')) ## (,)를 제거하고 숫자로 변환\n",
    "#     print(actor_name, actor_hit) # 이름과 흥행지수\n",
    "    \n",
    "    # 출연작\n",
    "    movies_titles = movies[idx].select('li a span')\n",
    "    movie_title_list = list() # 출연작 리스트\n",
    "    for m in movies_titles:\n",
    "        movie_title_list.append(m.text)\n",
    "#     print(movies_titles)\n",
    "    \n",
    "    # 순위\n",
    "    ranking = int(rank[idx].text)\n",
    "#     print(ranking)\n",
    "    \n",
    "    # 세부 페이지 url\n",
    "    actor_detail_url = urljoin(actor_url,actor.select_one('a')['href'])\n",
    "#     print(actor_detail_url)\n",
    "    \n",
    "    \n",
    "    ### 세부 페이지 post  ###\n",
    "    res2 = requests.post(actor_detail_url, data=formdata)\n",
    "#     print(res2.ok)\n",
    "    soup2 = BeautifulSoup(res2.text, 'html.parser')\n",
    "    \n",
    "    \n",
    "    ## 1명의 배우에 대한 dict\n",
    "    actor_item_dict = dict()\n",
    "    \n",
    "    actor_item_dict['배우이름'] = actor_name\n",
    "    actor_item_dict['흥행지수'] = actor_hit\n",
    "    actor_item_dict['출연작'] = movie_title_list\n",
    "    actor_item_dict['순위'] = ranking\n",
    "    \n",
    "    ### 세부 페이지 크롤링 ###\n",
    "    for li_tag in soup2.select('ul.default_info li'):\n",
    "#         print(li_tag)\n",
    "        actor_item_field = li_tag.select_one('span.tit').text\n",
    "#         print(actor_item_field) # 항목의 제목을 가져옴\n",
    "        \n",
    "        # 정규표현식을 사용하여 item_value를 가져옴\n",
    "        actor_item_value = re.sub('<span.*?>.*?</span>','', str(li_tag))\n",
    "        actor_item_value = re.sub('<.*?>','',actor_item_value)\n",
    "        regex = re.compile(r'[\\n\\t\\r]')\n",
    "        actor_item_value = regex.sub('',actor_item_value)\n",
    "#         print(actor_item_value)\n",
    "        \n",
    "        actor_item_dict[actor_item_field] = actor_item_value\n",
    "#     print(actor_item_dict,'\\n')\n",
    "    actor_item_list.append(actor_item_dict)\n",
    "\n",
    "actor_item_list\n"
   ]
  },
  {
   "cell_type": "markdown",
   "metadata": {},
   "source": [
    "---\n",
    "### 3단계 : 여러 페이지 크롤링 하기\n",
    "* 3page 까지 크롤링 하기\n",
    "* 한 페이지에 7명씩 21명의 배우를 크롤링"
   ]
  },
  {
   "cell_type": "code",
   "execution_count": 109,
   "metadata": {},
   "outputs": [
    {
     "name": "stdout",
     "output_type": "stream",
     "text": [
      "===========1 Page=============================================\n",
      "===> 0 번째 배우 출력\n",
      "{'배우이름': '강동원', '흥행지수': 159665, '출연작': ['반도'], '순위': 1, '직업': '배우', '생년월일': '1981-01-18', '성별': '남', '홈페이지': 'http://www.gangdongwon.com', '신장/체중': '186cm, 68kg', '학교': '한양대 - 상명대학교대학원 연극영화 (석사과정 재학)', '취미': '음악감상, 웹서핑, 운동, 신발 모으기', '특기': '축구'}\n",
      "===> 1 번째 배우 출력\n",
      "{'배우이름': '이정현', '흥행지수': 139707, '출연작': ['반도'], '순위': 2, '직업': '배우', '생년월일': '1980-02-07', '성별': '여', '홈페이지': 'https://www.instagram.com/mermaidleejh/https://twitter.com/mermaidjh', '신장/체중': '158cm, 38kg', '학교': '중앙대학교 연극영화', '취미': '바비 인형 수집, 피아노 연주', '특기': '별관찰, 시나리오 쓰기', '소속사': '에이바 앤 엔터테인먼트'}\n",
      "===> 2 번째 배우 출력\n",
      "{'배우이름': '이레', '흥행지수': 119748, '출연작': ['반도'], '순위': 3, '직업': '배우', '생년월일': '2006-03-12', '성별': '여', '홈페이지': 'https://www.facebook.com/leere.vv/'}\n",
      "===> 3 번째 배우 출력\n",
      "{'배우이름': '권해효', '흥행지수': 99795, '출연작': ['반도', '사이비', '한낮의 피크닉'], '순위': 4, '직업': '배우', '생년월일': '1965-11-06', '성별': '남', '신장/체중': '170cm, 62kg', '학교': '한양대학교 연극영화학 졸업'}\n",
      "===> 4 번째 배우 출력\n",
      "{'배우이름': '구교환', '흥행지수': 79832, '출연작': ['반도'], '순위': 5, '직업': '배우', '생년월일': '1982-12-14', '성별': '남'}\n",
      "===> 5 번째 배우 출력\n",
      "{'배우이름': '김민재', '흥행지수': 59874, '출연작': ['반도'], '순위': 6, '직업': '배우', '생년월일': '1979-03-20', '성별': '남', '홈페이지': 'https://www.facebook.com/cjesminjae', '학교': '한국예술종합학교'}\n",
      "===> 6 번째 배우 출력\n",
      "{'배우이름': '유아인', '흥행지수': 54589, '출연작': ['＃살아있다', '버닝'], '순위': 7, '다른 이름': '엄홍식', '직업': '배우', '생년월일': '1986-10-06', '성별': '남', '홈페이지': 'https://www.instagram.com/hongsick/https://twitter.com/seeksik', '신장/체중': '178cm, 60kg', '학교': '단국대학교 연극', '취미': '피아노 연주, 인터넷 게임, 영화, 음악감상', '특기': '스노우보드, 수영'}\n",
      "===========2 Page=============================================\n",
      "===> 0 번째 배우 출력\n",
      "{'배우이름': '박신혜', '흥행지수': 43667, '출연작': ['＃살아있다'], '순위': 8, '직업': '배우', '생년월일': '1990-02-18', '성별': '여', '홈페이지': 'https://twitter.com/ssinzhttps://www.instagram.com/ssinz7/', '신장/체중': '165cm, 45kg', '학교': '중앙대학교 연극영화학 (재학)', '취미': '음악감상', '특기': '댄스', '소속사': '아바 엔터테인먼트'}\n",
      "===> 1 번째 배우 출력\n",
      "{'배우이름': '김도윤', '흥행지수': 39916, '출연작': ['반도'], '순위': 9, '다른 이름': '김주년', '직업': '배우', '생년월일': '1981-08-07', '성별': '남'}\n",
      "===> 2 번째 배우 출력\n",
      "{'배우이름': '전배수', '흥행지수': 32750, '출연작': ['＃살아있다'], '순위': 10, '직업': '배우', '생년월일': '1970-06-02', '성별': '남'}\n",
      "===> 3 번째 배우 출력\n",
      "{'배우이름': '이현욱', '흥행지수': 21833, '출연작': ['＃살아있다'], '순위': 11, '직업': '배우', '생년월일': '1985-06-17', '성별': '남', '신장/체중': '180cm, 68kg'}\n",
      "===> 4 번째 배우 출력\n",
      "{'배우이름': '오혜원', '흥행지수': 10917, '출연작': ['＃살아있다'], '순위': 12, '직업': '모델', '성별': '여', '홈페이지': 'http://www.vlive.tv/channels/E29393'}\n",
      "===> 5 번째 배우 출력\n",
      "{'배우이름': '정우성', '흥행지수': 9329, '출연작': ['강철비2: 정상회담', '호우시절'], '순위': 13, '직업': '배우', '성별': '남', '홈페이지': 'http://www.artistcompany.co.kr/portfolio-item/jung-woo-sung/', '소속사': '아티스트컴퍼니'}\n",
      "===> 6 번째 배우 출력\n",
      "{'배우이름': '곽도원', '흥행지수': 8771, '출연작': ['강철비2: 정상회담'], '순위': 14, '다른 이름': '곽병규', '직업': '배우', '생년월일': '1974-00-00', '성별': '남', '홈페이지': 'https://www.facebook.com/cjesdowonhttp://twitter.com/kwakbyoungkuy'}\n",
      "===========3 Page=============================================\n",
      "===> 0 번째 배우 출력\n",
      "{'배우이름': '유연석', '흥행지수': 8222, '출연작': ['강철비2: 정상회담'], '순위': 15, '다른 이름': '안연석', '직업': '배우', '생년월일': '1984-04-11', '성별': '남', '홈페이지': 'https://twitter.com/yeonseok411https://www.instagram.com/yoo_yeonseok/', '소속사': '이야기엔터테인먼트'}\n",
      "===> 1 번째 배우 출력\n",
      "{'배우이름': '신정근', '흥행지수': 7674, '출연작': ['강철비2: 정상회담'], '순위': 16, '직업': '배우', '성별': '남', '홈페이지': 'http://www.artistcompany.co.kr/portfolio-item/shin-jung-geun/', '소속사': '아티스트컴퍼니'}\n",
      "===> 2 번째 배우 출력\n",
      "{'배우이름': '류수영', '흥행지수': 7126, '출연작': ['강철비2: 정상회담'], '순위': 17, '다른 이름': '어남선', '직업': '배우', '생년월일': '1979-09-05', '성별': '남', '홈페이지': 'https://twitter.com/sienarollhttps://instagram.com/suyoung_ryu/', '신장/체중': '183cm, 69kg', '학교': '명지대학교 경영학', '취미': '지점토공예, 운동(구기종목)', '특기': '합기도, 스쿼시'}\n",
      "===> 3 번째 배우 출력\n",
      "{'배우이름': '염정아', '흥행지수': 6578, '출연작': ['강철비2: 정상회담'], '순위': 18, '직업': '배우', '성별': '여', '홈페이지': 'http://www.artistcompany.co.kr/portfolio-item/yum-jung-ah/', '소속사': '아티스트컴퍼니'}\n",
      "===> 4 번째 배우 출력\n",
      "{'배우이름': '김용림', '흥행지수': 6030, '출연작': ['강철비2: 정상회담'], '순위': 19, '직업': '배우', '생년월일': '1940-03-03', '성별': '여'}\n",
      "===> 5 번째 배우 출력\n",
      "{'배우이름': '김명곤', '흥행지수': 5482, '출연작': ['강철비2: 정상회담', '물의 기억'], '순위': 20, '직업': '배우', '생년월일': '1952-12-03', '성별': '남', '홈페이지': 'https://twitter.com/myunggon'}\n",
      "===> 6 번째 배우 출력\n",
      "{'배우이름': '장광', '흥행지수': 4933, '출연작': ['강철비2: 정상회담'], '순위': 21, '직업': '배우', '생년월일': '1952-01-05', '성별': '남'}\n"
     ]
    },
    {
     "data": {
      "text/plain": [
       "21"
      ]
     },
     "execution_count": 109,
     "metadata": {},
     "output_type": "execute_result"
    }
   ],
   "source": [
    "actor_url = 'http://www.cine21.com/rank/person/content'\n",
    "\n",
    "formdata = dict()\n",
    "formdata['section'] = 'actor'\n",
    "formdata['period_start'] = '2020-07'\n",
    "formdata['gender'] = 'all'\n",
    "\n",
    "actor_item_list = list() # 배우의 모든 정보를 담을 리스트 (이름, 흥행지수, 출연작, 등)\n",
    "\n",
    "for page in range(1,4):\n",
    "    formdata['page'] = page\n",
    "    \n",
    "    print('==========={} Page============================================='.format(page))\n",
    "\n",
    "    res = requests.post(actor_url, data=formdata)\n",
    "#     print(res.ok)\n",
    "    soup = BeautifulSoup(res.text, 'html.parser')\n",
    "#     len(soup)\n",
    "\n",
    "\n",
    "\n",
    "    \n",
    "\n",
    "    actors = soup.select('li.people_li div.name')\n",
    "    hits = soup.select('ul.num_info > li > strong') # 흥행지수\n",
    "    movies = soup.select('ul.mov_list') # 영화목록\n",
    "    rank = soup.select('span.grade')\n",
    "\n",
    "    for idx, actor in enumerate(actors):\n",
    "    #     print(actor)\n",
    "        # 강동원(1편) 에서 (1편)을 제거하고 저장한다.\n",
    "        print('===> {} 번째 배우 출력'.format(idx))\n",
    "        actor_name = re.sub('\\(\\w*\\)' , '' , actor.text) # 배우 이름\n",
    "\n",
    "        # idx번째 배우의 흥행지수\n",
    "        actor_hit = int(hits[idx].text.replace(',','')) ## (,)를 제거하고 숫자로 변환\n",
    "    #     print(actor_name, actor_hit) # 이름과 흥행지수\n",
    "\n",
    "        # 출연작\n",
    "        movies_titles = movies[idx].select('li a span')\n",
    "        movie_title_list = list() # 출연작 리스트\n",
    "        for m in movies_titles:\n",
    "            movie_title_list.append(m.text)\n",
    "    #     print(movies_titles)\n",
    "\n",
    "        # 순위\n",
    "        ranking = int(rank[idx].text)\n",
    "    #     print(ranking)\n",
    "\n",
    "        # 세부 페이지 url\n",
    "        actor_detail_url = urljoin(actor_url,actor.select_one('a')['href'])\n",
    "    #     print(actor_detail_url)\n",
    "\n",
    "\n",
    "        ### 세부 페이지 post  ###\n",
    "        res2 = requests.post(actor_detail_url, data=formdata)\n",
    "    #     print(res2.ok)\n",
    "        soup2 = BeautifulSoup(res2.text, 'html.parser')\n",
    "\n",
    "\n",
    "        ## 1명의 배우에 대한 dict\n",
    "        actor_item_dict = dict()\n",
    "\n",
    "        actor_item_dict['배우이름'] = actor_name\n",
    "        actor_item_dict['흥행지수'] = actor_hit\n",
    "        actor_item_dict['출연작'] = movie_title_list\n",
    "        actor_item_dict['순위'] = ranking\n",
    "\n",
    "        ### 세부 페이지 크롤링 ###\n",
    "        for li_tag in soup2.select('ul.default_info li'):\n",
    "    #         print(li_tag)\n",
    "            actor_item_field = li_tag.select_one('span.tit').text\n",
    "    #         print(actor_item_field) # 항목의 제목을 가져옴\n",
    "\n",
    "            # 정규표현식을 사용하여 item_value를 가져옴\n",
    "            actor_item_value = re.sub('<span.*?>.*?</span>','', str(li_tag))\n",
    "            actor_item_value = re.sub('<.*?>','',actor_item_value)\n",
    "            regex = re.compile(r'[\\n\\t\\r]')\n",
    "            actor_item_value = regex.sub('',actor_item_value)\n",
    "    #         print(actor_item_value)\n",
    "\n",
    "            actor_item_dict[actor_item_field] = actor_item_value\n",
    "    #     print(actor_item_dict,'\\n')\n",
    "        actor_item_list.append(actor_item_dict)\n",
    "        print(actor_item_dict)\n",
    "\n",
    "len(actor_item_list)\n"
   ]
  },
  {
   "cell_type": "markdown",
   "metadata": {},
   "source": [
    "---\n",
    "### 4단계 : 1년치 데이터 크롤링 해보기\n",
    "* 273page 까지 크롤링 하기\n",
    "* 한 페이지에 7명씩 1905명의 배우를 크롤링"
   ]
  },
  {
   "cell_type": "code",
   "execution_count": 111,
   "metadata": {},
   "outputs": [],
   "source": [
    "from bs4 import BeautifulSoup\n",
    "import requests\n",
    "import re\n",
    "import pymongo\n",
    "from urllib.parse import urljoin\n",
    "from itertools import count # count itertools 사용"
   ]
  },
  {
   "cell_type": "code",
   "execution_count": 120,
   "metadata": {},
   "outputs": [
    {
     "name": "stdout",
     "output_type": "stream",
     "text": [
      "===========273 Page=============================================\n",
      " ===> 윤지원(3) 배우\n"
     ]
    },
    {
     "data": {
      "text/plain": [
       "1905"
      ]
     },
     "execution_count": 120,
     "metadata": {},
     "output_type": "execute_result"
    }
   ],
   "source": [
    "actor_url = 'http://www.cine21.com/rank/person/content'\n",
    "\n",
    "formdata = dict()\n",
    "formdata['section'] = 'actor'\n",
    "formdata['period_start'] = '2019-07'\n",
    "formdata['gender'] = 'all'\n",
    "\n",
    "actor_item_list = list() # 배우의 모든 정보를 담을 리스트 (이름, 흥행지수, 출연작, 등)\n",
    "\n",
    "for page in range(1,274):\n",
    "    formdata['page'] = page\n",
    "    \n",
    "    print('==========={} Page============================================='.format(page))\n",
    "\n",
    "    res = requests.post(actor_url, data=formdata)\n",
    "#     print(res.ok)\n",
    "    soup = BeautifulSoup(res.text, 'html.parser')\n",
    "#     len(soup)\n",
    "\n",
    "\n",
    "\n",
    "    actors = soup.select('li.people_li div.name')\n",
    "    if len(actors) == 0:  # 잘못된 정보는 걸러내기\n",
    "        break\n",
    "    \n",
    "    hits = soup.select('ul.num_info > li > strong') # 흥행지수\n",
    "    movies = soup.select('ul.mov_list') # 영화목록\n",
    "    rank = soup.select('span.grade')\n",
    "\n",
    "    for idx, actor in enumerate(actors):\n",
    "    #     print(actor)\n",
    "        # 강동원(1편) 에서 (1편)을 제거하고 저장한다.\n",
    "        actor_name = re.sub('\\(\\w*\\)' , '' , actor.text) # 배우 이름\n",
    "        print(' ===> {}({}) 배우'.format(actor_name,len(actor_name)))\n",
    "\n",
    "        # idx번째 배우의 흥행지수\n",
    "        actor_hit = int(hits[idx].text.replace(',','')) ## (,)를 제거하고 숫자로 변환\n",
    "    #     print(actor_name, actor_hit) # 이름과 흥행지수\n",
    "\n",
    "        # 출연작\n",
    "        movies_titles = movies[idx].select('li a span')\n",
    "        movie_title_list = list() # 출연작 리스트\n",
    "        for m in movies_titles:\n",
    "            movie_title_list.append(m.text)\n",
    "    #     print(movies_titles)\n",
    "\n",
    "        # 순위\n",
    "        ranking = int(rank[idx].text)\n",
    "    #     print(ranking)\n",
    "\n",
    "        # 세부 페이지 url\n",
    "        actor_detail_url = urljoin(actor_url,actor.select_one('a')['href'])\n",
    "    #     print(actor_detail_url)\n",
    "\n",
    "\n",
    "        ### 세부 페이지 post  ###\n",
    "        res2 = requests.post(actor_detail_url, data=formdata)\n",
    "    #     print(res2.ok)\n",
    "        soup2 = BeautifulSoup(res2.text, 'html.parser')\n",
    "\n",
    "\n",
    "        ## 1명의 배우에 대한 dict\n",
    "        actor_item_dict = dict()\n",
    "\n",
    "        actor_item_dict['배우이름'] = actor_name\n",
    "        actor_item_dict['흥행지수'] = actor_hit\n",
    "        actor_item_dict['출연작'] = movie_title_list\n",
    "        actor_item_dict['순위'] = ranking\n",
    "\n",
    "        ### 세부 페이지 크롤링 ###\n",
    "        for li_tag in soup2.select('ul.default_info li'):\n",
    "    #         print(li_tag)\n",
    "            actor_item_field = li_tag.select_one('span.tit').text\n",
    "    #         print(actor_item_field) # 항목의 제목을 가져옴\n",
    "\n",
    "            # 정규표현식을 사용하여 item_value를 가져옴\n",
    "            actor_item_value = re.sub('<span.*?>.*?</span>','', str(li_tag))\n",
    "            actor_item_value = re.sub('<.*?>','',actor_item_value)\n",
    "            regex = re.compile(r'[\\n\\t\\r]')\n",
    "            actor_item_value = regex.sub('',actor_item_value)\n",
    "    #         print(actor_item_value)\n",
    "\n",
    "            actor_item_dict[actor_item_field] = actor_item_value\n",
    "    #     print(actor_item_dict,'\\n')\n",
    "        actor_item_list.append(actor_item_dict)\n",
    "#         print(actor_item_dict)\n",
    "\n",
    "len(actor_item_list)\n"
   ]
  },
  {
   "cell_type": "code",
   "execution_count": 121,
   "metadata": {},
   "outputs": [
    {
     "name": "stdout",
     "output_type": "stream",
     "text": [
      "1905\n",
      "1903\n"
     ]
    }
   ],
   "source": [
    "print(len(actor_item_list))\n",
    "actor_final_list = [ actor for actor in actor_item_list if len(actor['배우이름'])<10]\n",
    "print(len(actor_final_list))"
   ]
  },
  {
   "cell_type": "code",
   "execution_count": 124,
   "metadata": {},
   "outputs": [
    {
     "data": {
      "text/plain": [
       "[{'배우이름': '이병헌',\n",
       "  '흥행지수': 45760,\n",
       "  '출연작': ['백두산', '남산의 부장들', '내부자들', '그것만이 내 세상', '광해, 왕이 된 남자', '번지점프를 하다'],\n",
       "  '순위': 1,\n",
       "  '다른 이름': 'Byung-hun Lee;BH Lee',\n",
       "  '직업': '배우',\n",
       "  '생년월일': '1970-07-12',\n",
       "  '성별': '남',\n",
       "  '홈페이지': 'http://www.leebyunghun.kr/',\n",
       "  '신장/체중': '177cm, 72kg',\n",
       "  '학교': '한양대학교 불어문학과',\n",
       "  '취미': '모자수집, 여행',\n",
       "  '특기': '태권도, 스노우보드, 수영, 팔씨름'},\n",
       " {'배우이름': '하정우',\n",
       "  '흥행지수': 31124,\n",
       "  '출연작': ['백두산', '클로젯', '멋진 하루', '신과 함께-인과 연', '신과 함께-죄와 벌', '아가씨'],\n",
       "  '순위': 2,\n",
       "  '다른 이름': '김성훈; 河正宇',\n",
       "  '직업': '배우',\n",
       "  '생년월일': '1978-03-11',\n",
       "  '성별': '남',\n",
       "  '홈페이지': 'https://www.facebook.com/ft.hajungwoo',\n",
       "  '신장/체중': '184cm, 75kg',\n",
       "  '학교': '중앙대학교 연극학 학사',\n",
       "  '취미': '피아노, 검도, 수영'}]"
      ]
     },
     "execution_count": 124,
     "metadata": {},
     "output_type": "execute_result"
    }
   ],
   "source": [
    "actor_item_list[:2]"
   ]
  },
  {
   "cell_type": "markdown",
   "metadata": {},
   "source": [
    "---\n",
    "### 5단계 : json 파일로 저장하기"
   ]
  },
  {
   "cell_type": "code",
   "execution_count": 130,
   "metadata": {},
   "outputs": [
    {
     "name": "stdout",
     "output_type": "stream",
     "text": [
      "file 저장 완료\n"
     ]
    }
   ],
   "source": [
    "import json\n",
    "\n",
    "with open('data/actors.json', 'w', encoding='utf8') as file:\n",
    "    json.dump(actor_final_list, file,ensure_ascii=False)\n",
    "    print('file 저장 완료')"
   ]
  }
 ],
 "metadata": {
  "kernelspec": {
   "display_name": "Python 3",
   "language": "python",
   "name": "python3"
  },
  "language_info": {
   "codemirror_mode": {
    "name": "ipython",
    "version": 3
   },
   "file_extension": ".py",
   "mimetype": "text/x-python",
   "name": "python",
   "nbconvert_exporter": "python",
   "pygments_lexer": "ipython3",
   "version": "3.7.0"
  }
 },
 "nbformat": 4,
 "nbformat_minor": 2
}
