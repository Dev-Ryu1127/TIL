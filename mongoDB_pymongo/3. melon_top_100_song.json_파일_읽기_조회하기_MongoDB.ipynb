{
 "cells": [
  {
   "cell_type": "markdown",
   "metadata": {},
   "source": [
    "## song 정보를 저장하고 읽기\n",
    "* data/songs.jsom 읽기\n",
    "* MongoDB에 연결하기 - db, collection 생성\n",
    "* insert_many() 등록, find() 조회\n",
    "\n",
    "\n",
    "---\n",
    "### json 파일 불러오기"
   ]
  },
  {
   "cell_type": "code",
   "execution_count": 1,
   "metadata": {},
   "outputs": [],
   "source": [
    "import json\n",
    "import pymongo"
   ]
  },
  {
   "cell_type": "code",
   "execution_count": 2,
   "metadata": {},
   "outputs": [],
   "source": [
    "# json file read\n",
    "with open('data/songs.json','r', encoding='utf8') as file:\n",
    "    contents = file.read()\n",
    "    json_data = json.loads(contents)"
   ]
  },
  {
   "cell_type": "code",
   "execution_count": 3,
   "metadata": {},
   "outputs": [
    {
     "name": "stdout",
     "output_type": "stream",
     "text": [
      "<class 'list'>\n"
     ]
    },
    {
     "data": {
      "text/plain": [
       "{'곡명': '다시 여기 바닷가',\n",
       " '가수': '싹쓰리 (유두래곤, 린다G, 비룡)',\n",
       " '앨범': '다시 여기 바닷가',\n",
       " '발매일': '2020.07.18',\n",
       " '장르': '댄스',\n",
       " '가사': '예아 호우 예예예싹쓰리 인더 하우스커커커커커몬 싹 쓰리 투 렛츠고나 다시 또 설레어이렇게 너를 만나서함께 하고 있는 지금 이 공기가다시는 널 볼 순 없을 거라고추억일 뿐이라서랍 속에 꼭 넣어뒀는데흐르는 시간 속에서너와 내 기억은점점 희미해져만 가끝난 줄 알았어지난여름 바닷가너와 나 단둘이파도에 취해서 노래하며같은 꿈을 꾸었지다시 여기 바닷가이제는 말하고 싶어네가 있었기에 내가 더욱 빛나별이 되었다고다들 덥다고 막 짜증내괜찮아 우리 둘은 따뜻해내게 퐁당 빠져버린 널이젠 구하러 가지 않을 거야모래 위 펴펴펴편지를 써밀물이 밀려와도 못 지워추억이 될 뻔한 첫 느낌너랑 다시 한번 받아 보고 싶어흐르는 시간 속에서너와 내 기억은점점 희미해져만 가끝난 줄 알았어지난여름 바닷가너와 나 단둘이파도에 취해서 노래하며같은 꿈을 꾸었지다시 여기 바닷가이제는 말하고 싶어네가 있었기에 내가 더욱 빛나별이 되었다고시간의 강을 건너또 맞닿은 너와 나소중한 사랑을 영원히간직해줘지난여름 바닷가너와 나 단둘이파도에 취해서 노래하며같은 꿈을 꾸었지다시 여기 바닷가이제는 말하고 싶어네가 있었기에 내가 더욱 빛나별이 되었다고'}"
      ]
     },
     "execution_count": 3,
     "metadata": {},
     "output_type": "execute_result"
    }
   ],
   "source": [
    "print(type(json_data)) # 읽어온 데이터 출력\n",
    "json_data[0]"
   ]
  },
  {
   "cell_type": "markdown",
   "metadata": {},
   "source": [
    "---\n",
    "### Database 생성, collection 생성"
   ]
  },
  {
   "cell_type": "code",
   "execution_count": 4,
   "metadata": {},
   "outputs": [
    {
     "name": "stdout",
     "output_type": "stream",
     "text": [
      "MongoClient(host=['localhost:27017'], document_class=dict, tz_aware=False, connect=True)\n",
      "Database(MongoClient(host=['localhost:27017'], document_class=dict, tz_aware=False, connect=True), 'song_db')\n",
      "Collection(Database(MongoClient(host=['localhost:27017'], document_class=dict, tz_aware=False, connect=True), 'song_db'), 'song_col')\n"
     ]
    }
   ],
   "source": [
    "import pymongo\n",
    "\n",
    "conn = pymongo.MongoClient()\n",
    "print(conn)\n",
    "\n",
    "song_db = conn.song_db\n",
    "print(song_db)\n",
    "\n",
    "song_col = song_db.song_col\n",
    "print(song_col)"
   ]
  },
  {
   "cell_type": "markdown",
   "metadata": {},
   "source": [
    "---\n",
    "### song_col 에 json파일 insert 하기\n",
    "* 넣은 데이터 조회해보기"
   ]
  },
  {
   "cell_type": "code",
   "execution_count": 5,
   "metadata": {},
   "outputs": [
    {
     "data": {
      "text/plain": [
       "<pymongo.results.InsertManyResult at 0x29fad405708>"
      ]
     },
     "execution_count": 5,
     "metadata": {},
     "output_type": "execute_result"
    }
   ],
   "source": [
    "song_col.insert_many(json_data)"
   ]
  },
  {
   "cell_type": "code",
   "execution_count": 6,
   "metadata": {},
   "outputs": [
    {
     "name": "stdout",
     "output_type": "stream",
     "text": [
      "{'곡명': '다시 여기 바닷가', '가수': '싹쓰리 (유두래곤, 린다G, 비룡)', '앨범': '다시 여기 바닷가', '발매일': '2020.07.18', '장르': '댄스'}\n",
      "{'곡명': '마리아 (Maria)', '가수': '화사 (Hwa Sa)', '앨범': 'María', '발매일': '2020.06.29', '장르': '댄스'}\n",
      "{'곡명': 'How You Like That', '가수': 'BLACKPINK', '앨범': 'How You Like That', '발매일': '2020.06.26', '장르': '랩/힙합'}\n",
      "{'곡명': '그 여름을 틀어줘', '가수': '싹쓰리 (유두래곤, 린다G, 비룡)', '앨범': '그 여름을 틀어줘', '발매일': '2020.07.25', '장르': '댄스'}\n",
      "{'곡명': 'Summer Hate (Feat. 비)', '가수': '지코 (ZICO)', '앨범': 'RANDOM BOX', '발매일': '2020.07.01', '장르': '랩/힙합'}\n",
      "{'곡명': '여름 안에서 by 싹쓰리 (Feat. 황광희)', '가수': '싹쓰리 (유두래곤, 린다G, 비룡)', '앨범': '여름 안에서 by 싹쓰리', '발매일': '2020.07.11', '장르': '댄스'}\n",
      "{'곡명': 'Downtown Baby', '가수': '블루 (BLOO)', '앨범': 'Downtown Baby', '발매일': '2017.12.06', '장르': '랩/힙합, 인디음악'}\n",
      "{'곡명': '에잇(Prod.&Feat. SUGA of BTS)', '가수': '아이유', '앨범': '에잇', '발매일': '2020.05.06', '장르': '록/메탈'}\n",
      "{'곡명': '홀로', '가수': '이하이', '앨범': '홀로', '발매일': '2020.07.23', '장르': 'R&B/Soul'}\n",
      "{'곡명': '아로하', '가수': '조정석', '앨범': '슬기로운 의사생활 OST Part 3', '발매일': '2020.03.27', '장르': '발라드, 국내드라마'}\n"
     ]
    }
   ],
   "source": [
    "for song in song_col.find({},{\"_id\":0, \"가사\":0})[:10]:\n",
    "    print(song)"
   ]
  },
  {
   "cell_type": "code",
   "execution_count": 22,
   "metadata": {},
   "outputs": [
    {
     "name": "stdout",
     "output_type": "stream",
     "text": [
      "{'_id': '발라드, 인디음악'}\n",
      "{'_id': '댄스'}\n",
      "{'_id': '록/메탈'}\n",
      "{'_id': 'R&B/Soul'}\n",
      "{'_id': 'POP'}\n",
      "{'_id': '랩/힙합'}\n",
      "{'_id': '발라드'}\n",
      "{'_id': 'R&B/Soul, 인디음악'}\n",
      "{'_id': '발라드, 국내드라마'}\n",
      "{'_id': '인디음악, 포크/블루스'}\n",
      "{'_id': '록/메탈, 국내드라마'}\n",
      "{'_id': '랩/힙합, 인디음악'}\n",
      "{'_id': '성인가요'}\n"
     ]
    }
   ],
   "source": [
    "for genre in song_col.aggregate([{\"$group\":{\"_id\":\"$장르\"}}]):\n",
    "    print(genre)"
   ]
  },
  {
   "cell_type": "markdown",
   "metadata": {},
   "source": [
    "---\n",
    "### 연습하기"
   ]
  },
  {
   "cell_type": "code",
   "execution_count": 38,
   "metadata": {},
   "outputs": [],
   "source": [
    "# 원하는 조건의 field를 find해주는 함수\n",
    "def print_song(m, f):\n",
    "    for idx, song in enumerate(song_col.find(m,f)):\n",
    "        print(idx, song)\n",
    "field = {\"곡명\":1, \"가수\":1, \"앨범\":1, \"발매일\":1, \"_id\":0}"
   ]
  },
  {
   "cell_type": "code",
   "execution_count": 39,
   "metadata": {},
   "outputs": [
    {
     "name": "stdout",
     "output_type": "stream",
     "text": [
      "0 {'곡명': '다시 여기 바닷가', '가수': '싹쓰리 (유두래곤, 린다G, 비룡)', '앨범': '다시 여기 바닷가', '발매일': '2020.07.18'}\n",
      "1 {'곡명': '마리아 (Maria)', '가수': '화사 (Hwa Sa)', '앨범': 'María', '발매일': '2020.06.29'}\n",
      "2 {'곡명': '그 여름을 틀어줘', '가수': '싹쓰리 (유두래곤, 린다G, 비룡)', '앨범': '그 여름을 틀어줘', '발매일': '2020.07.25'}\n",
      "3 {'곡명': '여름 안에서 by 싹쓰리 (Feat. 황광희)', '가수': '싹쓰리 (유두래곤, 린다G, 비룡)', '앨범': '여름 안에서 by 싹쓰리', '발매일': '2020.07.11'}\n",
      "4 {'곡명': '보라빛 밤 (pporappippam)', '가수': '선미', '앨범': '보라빛 밤 (pporappippam)', '발매일': '2020.06.29'}\n",
      "5 {'곡명': '살짝 설렜어 (Nonstop)', '가수': '오마이걸', '앨범': 'NONSTOP', '발매일': '2020.04.27'}\n",
      "6 {'곡명': 'Dolphin', '가수': '오마이걸', '앨범': 'NONSTOP', '발매일': '2020.04.27'}\n",
      "7 {'곡명': 'Into the I-LAND', '가수': '아이유', '앨범': 'I-LAND Part.1 Signal Song', '발매일': '2020.06.19'}\n",
      "8 {'곡명': 'MORE & MORE', '가수': 'TWICE (트와이스)', '앨범': 'MORE & MORE', '발매일': '2020.06.01'}\n",
      "9 {'곡명': 'Monster', '가수': '레드벨벳-아이린&슬기', '앨범': 'Monster - The 1st Mini Album', '발매일': '2020.07.06'}\n",
      "10 {'곡명': 'PLAY (Feat. 창모)', '가수': '청하', '앨범': 'PLAY', '발매일': '2020.07.06'}\n",
      "11 {'곡명': '작은 것들을 위한 시 (Boy With Luv) (Feat. Halsey)', '가수': '방탄소년단', '앨범': 'MAP OF THE SOUL : PERSONA', '발매일': '2019.04.12'}\n",
      "12 {'곡명': 'Psycho', '가수': 'Red Velvet (레드벨벳)', '앨범': '‘The ReVe Festival’ Finale', '발매일': '2019.12.23'}\n",
      "13 {'곡명': '환상동화 (Secret Story of the Swan)', '가수': 'IZ*ONE (아이즈원)', '앨범': 'Oneiric Diary (幻想日記)', '발매일': '2020.06.15'}\n",
      "14 {'곡명': '덤더럼 (Dumhdurum)', '가수': 'Apink (에이핑크)', '앨범': 'LOOK', '발매일': '2020.04.13'}\n",
      "15 {'곡명': 'Left & Right', '가수': '세븐틴', '앨범': \"SEVENTEEN 7th Mini Album '헹가래'\", '발매일': '2020.06.22'}\n",
      "16 {'곡명': 'FIESTA', '가수': 'IZ*ONE (아이즈원)', '앨범': 'BLOOM*IZ', '발매일': '2020.02.17'}\n",
      "17 {'곡명': 'WANNABE', '가수': 'ITZY (있지)', '앨범': \"IT'z ME\", '발매일': '2020.03.09'}\n",
      "18 {'곡명': 'What You Waiting For', '가수': '전소미', '앨범': 'What You Waiting For', '발매일': '2020.07.22'}\n",
      "19 {'곡명': 'HIP', '가수': '마마무 (Mamamoo)', '앨범': 'reality in BLACK', '발매일': '2019.11.14'}\n",
      "20 {'곡명': 'Apple', '가수': '여자친구 (GFRIEND)', '앨범': '回:Song of the Sirens', '발매일': '2020.07.13'}\n"
     ]
    }
   ],
   "source": [
    "# genre 가 댄스 인 곡명, 가수, 앨범, 발매일\n",
    "match = {\"장르\": \"댄스\"}\n",
    "print_song(match, field)"
   ]
  },
  {
   "cell_type": "code",
   "execution_count": 42,
   "metadata": {},
   "outputs": [
    {
     "name": "stdout",
     "output_type": "stream",
     "text": [
      "0 {'곡명': '작은 것들을 위한 시 (Boy With Luv) (Feat. Halsey)', '가수': '방탄소년단', '앨범': 'MAP OF THE SOUL : PERSONA', '발매일': '2019.04.12'}\n",
      "1 {'곡명': 'ON', '가수': '방탄소년단', '앨범': 'MAP OF THE SOUL : 7', '발매일': '2020.02.21'}\n",
      "2 {'곡명': '모든 날, 모든 순간 (Every day, Every Moment)', '가수': '폴킴', '앨범': '`키스 먼저 할까요?` OST Part.3', '발매일': '2018.03.20'}\n",
      "3 {'곡명': '안녕', '가수': '폴킴', '앨범': '호텔 델루나 OST Part.10', '발매일': '2019.08.12'}\n",
      "4 {'곡명': '봄날', '가수': '방탄소년단', '앨범': 'YOU NEVER WALK ALONE', '발매일': '2017.02.13'}\n",
      "5 {'곡명': '비', '가수': '폴킴', '앨범': '비', '발매일': '2016.06.21'}\n",
      "6 {'곡명': '00:00 (Zero O’Clock)', '가수': '방탄소년단', '앨범': 'MAP OF THE SOUL : 7', '발매일': '2020.02.21'}\n",
      "7 {'곡명': 'Black Swan', '가수': '방탄소년단', '앨범': 'MAP OF THE SOUL : 7', '발매일': '2020.01.17'}\n",
      "8 {'곡명': '너를 만나', '가수': '폴킴', '앨범': '너를 만나', '발매일': '2018.10.29'}\n",
      "9 {'곡명': '친구', '가수': '방탄소년단', '앨범': 'MAP OF THE SOUL : 7', '발매일': '2020.02.21'}\n",
      "10 {'곡명': 'Filter', '가수': '방탄소년단', '앨범': 'MAP OF THE SOUL : 7', '발매일': '2020.02.21'}\n",
      "11 {'곡명': 'Moon', '가수': '방탄소년단', '앨범': 'MAP OF THE SOUL : 7', '발매일': '2020.02.21'}\n",
      "12 {'곡명': '우리 만남이', '가수': '폴킴', '앨범': \"정규 2집 '마음, 둘'\", '발매일': '2020.04.22'}\n"
     ]
    }
   ],
   "source": [
    "# 가수 : 방탄소년단, 폴킴의 곡명, 가수, 앨범\n",
    "match = {\"가수\":{\"$in\": [\"방탄소년단\",\"폴킴\"]}}\n",
    "print_song(match,field)"
   ]
  },
  {
   "cell_type": "code",
   "execution_count": 43,
   "metadata": {},
   "outputs": [
    {
     "name": "stdout",
     "output_type": "stream",
     "text": [
      "0 {'곡명': '아로하', '가수': '조정석', '앨범': '슬기로운 의사생활 OST Part 3', '발매일': '2020.03.27'}\n",
      "1 {'곡명': '사랑하게 될 줄 알았어', '가수': '전미도', '앨범': '슬기로운 의사생활 OST Part 11', '발매일': '2020.05.22'}\n",
      "2 {'곡명': '흔들리는 꽃들 속에서 네 샴푸향이 느껴진거야', '가수': '장범준', '앨범': '멜로가 체질 OST Part 3', '발매일': '2019.08.23'}\n",
      "3 {'곡명': '시작', '가수': '가호 (Gaho)', '앨범': '이태원 클라쓰 OST Part.2', '발매일': '2020.02.01'}\n",
      "4 {'곡명': '좋은 사람 있으면 소개시켜줘', '가수': '조이 (JOY)', '앨범': '슬기로운 의사생활 OST Part 2', '발매일': '2020.03.20'}\n",
      "5 {'곡명': '마음을 드려요', '가수': '아이유', '앨범': '사랑의 불시착 OST Part 11', '발매일': '2020.02.15'}\n",
      "6 {'곡명': '모든 날, 모든 순간 (Every day, Every Moment)', '가수': '폴킴', '앨범': '`키스 먼저 할까요?` OST Part.3', '발매일': '2018.03.20'}\n",
      "7 {'곡명': '너에게 난, 나에게 넌', '가수': '미도와 파라솔', '앨범': '슬기로운 의사생활 OST Part 12', '발매일': '2020.05.29'}\n",
      "8 {'곡명': '화려하지 않은 고백', '가수': '규현 (KYUHYUN)', '앨범': '슬기로운 의사생활 OST Part 4', '발매일': '2020.04.03'}\n",
      "9 {'곡명': '그때 그 아인', '가수': '김필', '앨범': '이태원 클라쓰 OST Part.6', '발매일': '2020.02.15'}\n",
      "10 {'곡명': '안녕', '가수': '폴킴', '앨범': '호텔 델루나 OST Part.10', '발매일': '2019.08.12'}\n",
      "11 {'곡명': '돌덩이', '가수': '하현우 (국카스텐)', '앨범': '이태원 클라쓰 OST Part.3', '발매일': '2020.02.07'}\n",
      "12 {'곡명': '그대 고운 내사랑', '가수': '어반자카파', '앨범': '슬기로운 의사생활 OST Part 5', '발매일': '2020.04.10'}\n",
      "13 {'곡명': '내 눈물 모아', '가수': '휘인 (Whee In)', '앨범': '슬기로운 의사생활 OST Part 8', '발매일': '2020.05.01'}\n",
      "14 {'곡명': '아직 너의 시간에 살아', '가수': '이수현', '앨범': '사이코지만 괜찮아 OST Part.4', '발매일': '2020.07.12'}\n",
      "15 {'곡명': '너를 사랑하고 있어', '가수': '백현 (BAEKHYUN)', '앨범': '낭만닥터 김사부 2 OST Part.1', '발매일': '2020.01.07'}\n"
     ]
    }
   ],
   "source": [
    "# 앨범이름중 OST가 포함된 노래의 곡명, 가수, 앨범\n",
    "match = {\"앨범\":{\"$regex\":\"OST\"}}\n",
    "print_song(match, field)"
   ]
  },
  {
   "cell_type": "code",
   "execution_count": 10,
   "metadata": {},
   "outputs": [
    {
     "name": "stdout",
     "output_type": "stream",
     "text": [
      "<class 'pymongo.command_cursor.CommandCursor'>\n",
      "{'_id': '세훈&찬열', 'singer': 2}\n",
      "{'_id': '방탄소년단', 'singer': 16}\n",
      "{'_id': '전상근', 'singer': 4}\n",
      "{'_id': '블루 (BLOO)', 'singer': 2}\n",
      "{'_id': '백현 (BAEKHYUN)', 'singer': 4}\n",
      "{'_id': '세븐틴', 'singer': 2}\n",
      "{'_id': 'Etham', 'singer': 2}\n",
      "{'_id': '싹쓰리 (유두래곤, 린다G, 비룡)', 'singer': 6}\n",
      "{'_id': '진민호', 'singer': 2}\n",
      "{'_id': '가호 (Gaho)', 'singer': 2}\n"
     ]
    }
   ],
   "source": [
    "# 가수별 group by\n",
    "singer_list = song_col.aggregate([{\"$group\":{\n",
    "    \"_id\": \"$가수\",\n",
    "    \"singer\":{\"$sum\":1}\n",
    "}}])\n",
    "# singer_list의 타입은 ?\n",
    "print(type(singer_list))\n",
    "\n",
    "for singer in list(singer_list)[:10]:\n",
    "    print(singer)    \n"
   ]
  }
 ],
 "metadata": {
  "kernelspec": {
   "display_name": "Python 3",
   "language": "python",
   "name": "python3"
  },
  "language_info": {
   "codemirror_mode": {
    "name": "ipython",
    "version": 3
   },
   "file_extension": ".py",
   "mimetype": "text/x-python",
   "name": "python",
   "nbconvert_exporter": "python",
   "pygments_lexer": "ipython3",
   "version": "3.7.0"
  }
 },
 "nbformat": 4,
 "nbformat_minor": 2
}
