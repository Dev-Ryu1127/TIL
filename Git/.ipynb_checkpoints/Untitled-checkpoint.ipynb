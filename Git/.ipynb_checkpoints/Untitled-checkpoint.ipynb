{
 "cells": [
  {
   "cell_type": "markdown",
   "metadata": {},
   "source": [
    "# Git Bash 사용법\n",
    "\n",
    "\n",
    "---\n",
    "---\n",
    "### 1. 기본 명령어\n",
    "* 화면 초기화 : Ctrl + L\n",
    "* 목록 보기 : ls ,  dir\n",
    "* 파일 내용 보기 : cat [파일이름]\n",
    "* 특정 문자를 검색 : grep [문자] [파일이름]\n",
    "* 디렉터리 이동 : cd\n",
    "* 디렉터리 생성 : mkdir\n",
    "* 파일 삭제 : rm\n",
    "* 파일 생성 : touch\n",
    "\n",
    "---\n",
    "---"
   ]
  },
  {
   "cell_type": "markdown",
   "metadata": {},
   "source": [
    "## 2. git config \n",
    "* 최초 1회 실행\n",
    "\n",
    "```c\n",
    "// git commit에 사용할 username\n",
    "git config --global user.name \"your_name\"\n",
    "\n",
    "// git commit에 사용될 email\n",
    "git config --global user.email \"your_email@example.com\"\n",
    "\n",
    "// 설정한 내용을 확인\n",
    "git config -l\n",
    "```"
   ]
  },
  {
   "cell_type": "markdown",
   "metadata": {},
   "source": [
    "## 3. git init\n",
    "* 현재 디렉토리를 로컬 저장소로 지정한다.\n",
    "\n",
    "```c\n",
    "// 로컬저장소로 설정할 프로젝트 위치로 이동\n",
    "cd C:/dev/workspace/jin\n",
    "\n",
    "// 로컬저장소로 설정\n",
    "git init\n",
    "\n",
    "// init을 취소하려면 아래의 명령어를 입력\n",
    "rm -r .git\n",
    "```"
   ]
  }
 ],
 "metadata": {
  "kernelspec": {
   "display_name": "Python 3",
   "language": "python",
   "name": "python3"
  },
  "language_info": {
   "codemirror_mode": {
    "name": "ipython",
    "version": 3
   },
   "file_extension": ".py",
   "mimetype": "text/x-python",
   "name": "python",
   "nbconvert_exporter": "python",
   "pygments_lexer": "ipython3",
   "version": "3.7.0"
  }
 },
 "nbformat": 4,
 "nbformat_minor": 2
}
