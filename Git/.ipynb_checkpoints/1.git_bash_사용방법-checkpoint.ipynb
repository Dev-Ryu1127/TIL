{
 "cells": [
  {
   "cell_type": "markdown",
   "metadata": {},
   "source": [
    "# Git Bash 사용법\n",
    "\n",
    "\n",
    "---\n",
    "---\n",
    "### 0. 기본 명령어\n",
    "* 화면 초기화 : Ctrl + L\n",
    "* 목록 보기 : ls ,  dir\n",
    "* 파일 내용 보기 : cat [파일이름]\n",
    "* 특정 문자를 검색 : grep [문자] [파일이름]\n",
    "* 디렉터리 이동 : cd\n",
    "* 디렉터리 생성 : mkdir\n",
    "* 파일 삭제 : rm\n",
    "* 파일 생성 : touch\n",
    "\n",
    "---\n",
    "---"
   ]
  },
  {
   "cell_type": "markdown",
   "metadata": {},
   "source": [
    "## 1. clone\n",
    "\n",
    "```c\n",
    "git clone [저장소 HTTPS]\n",
    "```"
   ]
  },
  {
   "cell_type": "markdown",
   "metadata": {},
   "source": [
    "## 2. git config \n",
    "* 최초 1회 실행\n",
    "\n",
    "```c\n",
    "// git commit에 사용할 username\n",
    "git config --global user.name \"your_name\"\n",
    "\n",
    "// git commit에 사용될 email\n",
    "git config --global user.email \"your_email@example.com\"\n",
    "\n",
    "// 설정한 내용을 확인\n",
    "git config -l\n",
    "```"
   ]
  },
  {
   "cell_type": "markdown",
   "metadata": {},
   "source": [
    "## 3. git init\n",
    "* 현재 디렉토리를 로컬 저장소로 지정한다.\n",
    "\n",
    "```c\n",
    "// 로컬저장소로 설정할 프로젝트 위치로 이동\n",
    "cd C:/dev/workspace/jin\n",
    "\n",
    "// 로컬저장소로 설정\n",
    "git init\n",
    "\n",
    "// init을 취소하려면 아래의 명령어를 입력\n",
    "rm -r .git\n",
    "\n",
    "```"
   ]
  },
  {
   "cell_type": "markdown",
   "metadata": {},
   "source": [
    "## 4. git status\n",
    "* 로컬저장소의 현재 상태를 보여준다.\n",
    "\n",
    "## 5. git remote\n",
    "* 로컬저장소와 원격저장소를 연결한다.\n",
    "\n",
    "```c\n",
    "// Github 원격저장소와 연결한다.\n",
    "git remote add origin [자신의 Github 원격저장소 주소]\n",
    " \n",
    "// 연결된 원격저장소 확인한다.\n",
    "git remote -v\n",
    "\n",
    "```"
   ]
  },
  {
   "cell_type": "markdown",
   "metadata": {},
   "source": [
    "## 6. git add\n",
    "* 파일을 준비영역(staging Area)으로 옮긴다.\n",
    "\n",
    "```c\n",
    "// 디렉터리 내 모든 파일을 추가 (add다음에 띄어쓰기 필수!)\n",
    "git add .\n",
    "```"
   ]
  },
  {
   "cell_type": "markdown",
   "metadata": {},
   "source": [
    "## 7. git commit\n",
    "* 준비영역의 파일을 로컬저장소에 저장한다.\n",
    "\n",
    "```c\n",
    "// 간단한 커밋 메시지를 입력후 커밋\n",
    "git commit -m \"커밋 메시지\"\n",
    "```"
   ]
  },
  {
   "cell_type": "markdown",
   "metadata": {},
   "source": [
    "## 8. git log\n",
    "* 로컬저장소의 커밋 이력을 조회한다.\n",
    "\n",
    "```c\n",
    "// 커밋 이력 상세조회\n",
    "git log \n",
    " \n",
    "// 커밋 이력중 커밋ID, 타이틀 메시지만 조회\n",
    "git log --oneline\n",
    " \n",
    "// 모든 브랜치 커밋 이력 조회\n",
    "git log --oneline --decorate --graph --all\n",
    " \n",
    "// 특정 파일의 변경 커밋 조회\n",
    "git log -- a.html\n",
    "```\n"
   ]
  },
  {
   "cell_type": "markdown",
   "metadata": {},
   "source": [
    "## 9. git push\n",
    "* 원격 저장소에 저장한다.\n",
    "\n",
    "```c\n",
    "\n",
    "// 원격저장소에 저장한다.\n",
    "git push -u origin master\n",
    " \n",
    "// 에러 - ! [rejected] master -> master (fetch first)\n",
    "// 이미 변경된 파일이 원격저장소에 있을경우 발생\n",
    "git pull origin master \n",
    " \n",
    "// 에러 - ! [rejected] master -> master (non-fast-forward)\n",
    "git push origin +master\n",
    "\n",
    "```"
   ]
  }
 ],
 "metadata": {
  "kernelspec": {
   "display_name": "Python 3",
   "language": "python",
   "name": "python3"
  },
  "language_info": {
   "codemirror_mode": {
    "name": "ipython",
    "version": 3
   },
   "file_extension": ".py",
   "mimetype": "text/x-python",
   "name": "python",
   "nbconvert_exporter": "python",
   "pygments_lexer": "ipython3",
   "version": "3.7.0"
  }
 },
 "nbformat": 4,
 "nbformat_minor": 2
}
