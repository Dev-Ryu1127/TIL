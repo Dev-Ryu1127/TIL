{
 "cells": [
  {
   "cell_type": "markdown",
   "metadata": {},
   "source": [
    "# blog app 작성 2\n",
    "## 1. 템플릿 상속하기\n",
    "### a. template 상속이란?\n",
    "* 동일한 정보/레이아웃을 사용하고자 할 때, 모든 파일마다 같은 내용을 반복해서 입력하지 않아도 된다.\n",
    "* 수정할 부분이 생겨도 한번만 수정하면 된다.\n",
    "\n",
    "### b. 기본 template html 생성하기\n",
    "* 기본 템플릿은 웹사이트 내 모든 페이지에 확장되어 사용되는 기본 template이다.\n",
    "* blog/template/blog/base.html 파일을 생성한다.\n",
    "* post_list.html의 모든 내용을 복사해 넣는다.\n"
   ]
  },
  {
   "cell_type": "markdown",
   "metadata": {},
   "source": [
    "### c. 기본 template (base.html)\n",
    "* {% block content %} {% endblock %} 이 부분에 바뀌는 부분을 넣어준다.\n",
    "```html\n",
    "<body>\n",
    "     <div class=\"page-header\">\n",
    "         <h1><a href=\"/\">Django Girls Blog</a></h1>\n",
    "     </div>\n",
    "     <div class=\"content container\">\n",
    "         <div class=\"row\">\n",
    "             <div class=\"col-md-8\">\n",
    "                 {% block content %}\n",
    "                 {% endblock %}\n",
    "             </div>\n",
    "         </div>\n",
    "     </div>\n",
    "</body>\n",
    "```"
   ]
  },
  {
   "cell_type": "markdown",
   "metadata": {},
   "source": [
    "### d. post_list.html 수정하기\n",
    "* extends : 상속 받는다는 의미\n",
    "```html\n",
    "{% extends 'blog/base.html' %}\n",
    "    {% block content %}\n",
    "         {% for post in posts %}\n",
    "             <div class=\"post\">\n",
    "                 <div class=\"date\">\n",
    "                     {{ post.published_date }}\n",
    "                 </div>\n",
    "                 <h1><a href=\"\">{{ post.title }}</a></h1>\n",
    "                 <p>{{ post.text|linebreaksbr }}</p>\n",
    "             </div>\n",
    "         {% endfor %}\n",
    "    {% endblock %}\n",
    "```"
   ]
  },
  {
   "cell_type": "markdown",
   "metadata": {},
   "source": [
    "---\n",
    "## 2. Post Detail (글 상세) 페이지 작성하기\n",
    "### a. urls.py에 url 추가\n",
    "* blog/urls.py\n",
    "\n",
    "```python\n",
    "from django.urls import path\n",
    "from . import views\n",
    "urlpatterns = [\n",
    "    path('', views.post_list, name='post_list'),\n",
    "    path('post/<int:pk>/', views.post_detail, name='post_detail'), \n",
    "    # name은 post_list.html의 href에 사용한다\n",
    "]\n",
    "\n",
    "```"
   ]
  },
  {
   "cell_type": "markdown",
   "metadata": {},
   "source": [
    "### b. post_list.html에 post_detail 페이지 링크 추가\n",
    "* post.pk는 Post 모델의 primary key이다.\n",
    "\n",
    "```html\n",
    "{% extends 'blog/base.html' %}\n",
    "{% block content %}\n",
    "     {% for post in posts %}\n",
    "     <div class=\"post\">\n",
    "         <div class=\"date\">\n",
    "             {{ post.published_date }}\n",
    "         </div>\n",
    "         <h1><a href=\"{% url 'post_detail' pk=post.pk %}\">{{ post.title }}</a></h1>\n",
    "         <p>{{ post.text|linebreaksbr }}</p>\n",
    "     </div>\n",
    "     {% endfor %}\n",
    "{% endblock %}\n",
    "```"
   ]
  },
  {
   "cell_type": "markdown",
   "metadata": {},
   "source": [
    "### c. post_detail() 함수를 views.py에 추가\n",
    "* pk가 잘못되었으면 404에러를 호출\n",
    "* 있으면 가져오기\n",
    "\n",
    "```python\n",
    "from django.shortcuts import render, get_object_or_404\n",
    "from .models import Post\n",
    "def post_detail(request, pk):\n",
    "     post = get_object_or_404(Post, pk=pk)\n",
    "     return render(request, 'blog/post_detail.html', {'post': post})\n",
    "\n",
    "```"
   ]
  },
  {
   "cell_type": "markdown",
   "metadata": {},
   "source": [
    "### d. post_detail.html 페이지 작성하기\n",
    "* blog/template/blog/post_detail.html\n",
    "\n",
    "```html\n",
    "{% extends 'blog/base.html' %}\n",
    "{% block content %}\n",
    "     <div class=\"post\">\n",
    "         {% if post.published_date %}\n",
    "             <div class=\"date\">\n",
    "                 {{ post.published_date }}\n",
    "             </div>\n",
    "         {% endif %}\n",
    "         <h1>{{ post.title }}</h1>\n",
    "         <p>{{ post.text|linebreaksbr }}</p>\n",
    "     </div>\n",
    "{% endblock %}\n",
    "\n",
    "```"
   ]
  },
  {
   "cell_type": "markdown",
   "metadata": {},
   "source": [
    "---\n",
    "## 3. Django Form (글 추가)\n",
    "### a. Form?\n",
    "* model 클래스와 유사하게 Form 클래스를 정의\n",
    "* 커스텀 Form 클래스\n",
    "    * 입력 폼 HTML 생성 : .as_table(), .as_p(), .as_ul() 기본제공\n",
    "\n",
    "### b. Form 처리\n",
    "* 폼 처리 시에 같은 URL에서 GET/POST 로 나우어 처리\n",
    "* GET방식으로 요청 : 입력 폼을 보여줍니다.\n",
    "* POST방식으로 요청 : 데이터를 입력 받아 유효성 검증 과정을 거칩니다.\n",
    "    * 검증 성공 : 데이터를 저장하고 SUCCESS URL로 이동\n",
    "    * 검증 실패 : 오류 메세지와 함께 입력 폼을 다시 보여준다.\n",
    "    \n",
    "### c. Form 처리과정\n",
    "\n",
    "![flow_chart](img/flow.PNG)"
   ]
  },
  {
   "cell_type": "markdown",
   "metadata": {},
   "source": [
    "### 3-1.글추가 페이지 추가\n",
    "### a. : Form 클래스 정의\n",
    "* forms.py\n",
    "\n",
    "```python\n",
    "from django import forms\n",
    "from .models import Post\n",
    "\n",
    "# Model Form을 상속받는\n",
    "class PostModelForm(forms.ModelForm):\n",
    "    # ModelForm : Model과 연관된 Form을 만듦\n",
    "    class Meta: # rule\n",
    "        model = Post\n",
    "        fields = ('title', 'text')\n",
    "    # validate검사를 Modelform에서 할 수 없음\n",
    "    # 그래서 Model에서 해주어야한다.\n",
    "```\n",
    "\n"
   ]
  },
  {
   "cell_type": "markdown",
   "metadata": {},
   "source": [
    "### b. post_edit.html 페이지 추가\n",
    "* blog/templates/blog/post_edit.html\n",
    "```html\n",
    "{% extends 'blog/base.html' %}\n",
    "{% block content %}\n",
    "    <h1>New post</h1>\n",
    "     <form method=\"POST\" class=\"post-form\">\n",
    "         {% csrf_token %} <!-- 토큰이 없으면 403 에러가 난다. -->\n",
    "         {{ form.as_p }}\n",
    "         <button type=\"submit\" class=\"save btn btn-default\">Save</button>\n",
    "     </form>\n",
    "{% endblock %}\n",
    "```"
   ]
  },
  {
   "cell_type": "markdown",
   "metadata": {},
   "source": [
    "### c. post_new() 함수 만들기\n",
    "\n",
    "* blog/views.py\n",
    "\n",
    "```python\n",
    "from .forms import PostForm\n",
    "def post_new(request):\n",
    "    form = PostForm()\n",
    "    return render(request, 'blog/post_edit.html', {'form': form}) \n",
    "```\n",
    "\n",
    "* blog/templates/blog/post_edit.html\n",
    "    * 위에서 넘긴 form을 html에서 사용\n",
    "    \n",
    "    \n",
    "```html\n",
    "{% extends 'blog/base.html' %}\n",
    "{% block content %}\n",
    "    <h1>New post</h1>\n",
    "    <form method=\"POST\" class=\"post-form\">\n",
    "        {% csrf_token %}\n",
    "        {{ form.as_p }}\n",
    "        <button type=\"submit\" class=\"save btn btn-default\">Save</button>\n",
    "    </form>\n",
    "{% endblock %}\n",
    "\n",
    "```\n",
    "\n",
    "\n"
   ]
  },
  {
   "cell_type": "markdown",
   "metadata": {},
   "source": [
    "### d. urls.py에 추가\n",
    "```python\n",
    "# localhost:8000/post/new\n",
    "path('post/new/', views.post_new, name='post_new'),\n",
    "```"
   ]
  },
  {
   "cell_type": "markdown",
   "metadata": {},
   "source": [
    "### e. base.html 에 글 추가 링크 추가\n",
    "\n",
    "```html\n",
    "<div class=\"page-header\">\n",
    "     <a href=\"{% url 'post_new' %}\" class=\"plus\">\n",
    "        <span class=\"glyphicon glyphicon-plus\"></span></a>\n",
    "     <h1><a href=\"/\">Django's Blog</a></h1>\n",
    "</div>\n",
    "\n",
    "```\n",
    "\n",
    "* 원하는 대로 css도 작성해준다\n",
    "\n",
    "```css\n",
    ".plus, .plus:hover, .plus:visited {\n",
    "    text-decoration: none; /* link 표시 안나게 하기! */\n",
    "    color: #ffffff;\n",
    "    font-size: 26pt;\n",
    "    margin-right: 20px;\n",
    "    float: right; /*오른쪽 으로 옮기기*/\n",
    "}\n",
    "```"
   ]
  },
  {
   "cell_type": "markdown",
   "metadata": {},
   "source": [
    "### f. 필드 유효성 검사 함수 추가\n",
    "* models.py 수정\n",
    "\n",
    "```python\n",
    "from django import forms\n",
    "\n",
    "def min_length_3_validator(value):\n",
    "    if len(value) < 3:\n",
    "        raise forms.ValidationError('3글자 이상 입력해주세요.')\n",
    "```\n",
    "\n",
    "* migration 해준다"
   ]
  },
  {
   "cell_type": "markdown",
   "metadata": {},
   "source": [
    "### g-1. Form 저장하기\n",
    "* 등록 Form의 두 가지 상황\n",
    "    * 첫번째 : 처음 페이지에 접속 했을 때, 새 글을 쓸 수 있게 Form이 비어있다.\n",
    "        * 이때 Http method는 GET\n",
    "    * 두번째 : Form에 입력된 데이터를 view페이지로 가지고 올 때 이다.\n",
    "        * 이때 Http method는 POST\n",
    "* blog/views.py\n",
    "```python\n",
    "from .forms import PostForm\n",
    "def post_new(request):\n",
    "    if request.method == \"POST\":\n",
    "         form = PostForm(request.POST)\n",
    "    else:\n",
    "        form = PostForm()\n",
    "    return render(request, 'blog/post_edit.html', {'form': form})\n",
    "```"
   ]
  },
  {
   "cell_type": "markdown",
   "metadata": {},
   "source": [
    "### g-2. redirect\n",
    "* 새 글을 작성하고 post_detail 페이지로 이동한다.\n",
    "* post_detail은 이동하고 싶은 view의 name이고, pk=post.pk 를 이용해서 값을 넘긴다.\n",
    "* post는 새로 생성한 블로그 글입니다.\n",
    "\n",
    "```python\n",
    "from django.shortcuts import redirect\n",
    "\n",
    "return redirect('post_detail', pk=post.pk)\n",
    "```"
   ]
  },
  {
   "cell_type": "markdown",
   "metadata": {},
   "source": [
    "### g-3 post_new 완성!\n",
    "```python\n",
    "# post 등록\n",
    "def post_new(request):\n",
    "    if request.method == 'POST': # save버튼을 눌렀을때,\n",
    "        form = PostForm(request.POST)\n",
    "        if form.is_valid(): # 유효성 검사\n",
    "            print(form.cleaned_data)\n",
    "            post = Post.objects.create(\n",
    "                author=User.objects.get(username = request.user),\n",
    "                                       published_date=timezone.now(),\n",
    "                                       title=form.cleaned_data['title'],\n",
    "                                       text=form.cleaned_data['text']) \n",
    "            # save 필요없다\n",
    "            return redirect('post_detail', pk=post.pk) \n",
    "        # 저장하자 마자 post_detail로 바로 분기\n",
    "\n",
    "    else : # http method == 'GET'\n",
    "        form = PostForm() # 등록 form을 보여준다\n",
    "    return render(request, 'blog/post_edit.html', {'form': form} )\n",
    "```"
   ]
  },
  {
   "cell_type": "markdown",
   "metadata": {},
   "source": [
    "---\n",
    "## 4. 글 수정\n",
    "### a. view.py에 post_edit() 함수 추가\n",
    "```python\n",
    "# Post 수정\n",
    "def post_edit(request, pk):\n",
    "    post = get_object_or_404(Post, pk=pk)\n",
    "    if request.method == 'POST': # save버튼을 누름\n",
    "        # 수정을 처리하는 부분\n",
    "        form = PostModelForm(request.POST, instance=post)\n",
    "        if form.is_valid():\n",
    "            post = form.save(commit=False)\n",
    "            post.author = User.objects.get(username = request.user)\n",
    "            post.published_date = timezone.now()\n",
    "            post.save()\n",
    "            return redirect('post_detail', pk=post.pk)\n",
    "    else : # 연필 버튼을 누름\n",
    "        # 수정하기 전에 데이터를 읽어오는 부분\n",
    "        form = PostModelForm(instance=post) # 데이터를 instance로 주기\n",
    "    return render(request, 'blog/post_edit.html', {'form': form})\n",
    "```"
   ]
  },
  {
   "cell_type": "markdown",
   "metadata": {},
   "source": [
    "### b. urls.py 추가\n",
    "```python\n",
    "# localhost:8000/post/5/edit\n",
    "    path('post/<int:pk>/edit', views.post_edit, name='post_edit')\n",
    "```"
   ]
  },
  {
   "cell_type": "markdown",
   "metadata": {},
   "source": [
    "### c. post_detail.html 에 글 수정 링크 걸기\n",
    "```html\n",
    "{% extends 'blog/base.html' %}\n",
    "\n",
    "{% block content %}\n",
    "      <div class=\"post\">\n",
    "          {% if post.published_date %}\n",
    "            <div class=\"date\">\n",
    "                {{post.published_date}}\n",
    "            </div>\n",
    "          {% endif %}}\n",
    "<!--          수정하기-->\n",
    "          <a class = \"btn btn-default\" href=\"{% url 'post_edit' pk=post.pk %}\">\n",
    "              <span class = \"glyphicon glyphicon-pencil\"></span>\n",
    "          </a>\n",
    "<!--          여기까지 -->\n",
    "          <h1> {{post.title}}</h1>\n",
    "          <p> {{post.text|linebreaksbr }}</p>\n",
    "      </div>\n",
    "{% endblock %}\n",
    "```"
   ]
  },
  {
   "cell_type": "markdown",
   "metadata": {},
   "source": [
    "---\n",
    "## 5. 글 삭제\n",
    "### a. blog/views.py에 post_remove() 함수 추가\n",
    "```python\n",
    "# post 삭제\n",
    "def post_remove(request, pk):\n",
    "    post = get_object_or_404(Post, pk=pk)\n",
    "    post.delete() # 삭제하기\n",
    "    return redirect('post_list') # 지우자 마자 글 list로 이동\n",
    "```"
   ]
  },
  {
   "cell_type": "markdown",
   "metadata": {},
   "source": [
    "### b. urls.py 추가\n",
    "```python\n",
    "# localhost:8000/post/5/remove\n",
    "    path('post/<int:pk>/remove', views.post_remove, name='post_remove' )\n",
    "```"
   ]
  },
  {
   "cell_type": "markdown",
   "metadata": {},
   "source": [
    "### c. post_detail.html에 페이지 삭제 링크 만들기\n",
    "* blog/templates/blog/post_detail.html\n",
    "\n",
    "```html\n",
    "{% extends 'blog/base.html' %}\n",
    "\n",
    "{% block content %}\n",
    "      <div class=\"post\">\n",
    "          {% if post.published_date %}\n",
    "            <div class=\"date\">\n",
    "                {{post.published_date}}\n",
    "            </div>\n",
    "          {% endif %}\n",
    "          <a class = \"btn btn-default\" href=\"{% url 'post_edit' pk=post.pk %}\">\n",
    "              <span class = \"edit-btn glyphicon glyphicon-pencil\"></span>\n",
    "          </a>\n",
    "<!--          글 삭제 링크 추가하기-->\n",
    "          <a class = \"btn btn-default\" href=\"{% url 'post_remove' pk=post.pk %}\">\n",
    "              <span class=\"glyphicon glyphicon-remove\"></span>\n",
    "          </a>\n",
    "<!--          여기까지-->\n",
    "          <h1> {{post.title}}</h1>\n",
    "          <p> {{post.text|linebreaksbr }}</p>\n",
    "      </div>\n",
    "{% endblock %}\n",
    "```"
   ]
  },
  {
   "cell_type": "markdown",
   "metadata": {},
   "source": [
    "---\n",
    "## 6. 로그인/로그아웃 처리하기\n",
    "### a. @login_required 데코레이터\n",
    "* 로그인 한 사용자만 접근하도록 post_new, post_edit등을 보호하는 것\n",
    "\n",
    "```python\n",
    "@login_required\n",
    "def post_new(request):\n",
    "    [...]\n",
    "```"
   ]
  },
  {
   "cell_type": "markdown",
   "metadata": {},
   "source": [
    "### b. "
   ]
  },
  {
   "cell_type": "code",
   "execution_count": null,
   "metadata": {},
   "outputs": [],
   "source": []
  }
 ],
 "metadata": {
  "kernelspec": {
   "display_name": "Python 3",
   "language": "python",
   "name": "python3"
  },
  "language_info": {
   "codemirror_mode": {
    "name": "ipython",
    "version": 3
   },
   "file_extension": ".py",
   "mimetype": "text/x-python",
   "name": "python",
   "nbconvert_exporter": "python",
   "pygments_lexer": "ipython3",
   "version": "3.7.0"
  }
 },
 "nbformat": 4,
 "nbformat_minor": 2
}
